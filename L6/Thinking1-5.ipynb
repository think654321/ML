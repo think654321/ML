{
 "cells": [
  {
   "cell_type": "markdown",
   "metadata": {},
   "source": [
    "## 1.在实际工作中，FM和MF哪个应用的更多，为什么"
   ]
  },
  {
   "cell_type": "markdown",
   "metadata": {},
   "source": [
    "### 实际工作中FM用的多。MF只能使用两个特征，当特征更多的时候，就无法使用，而FM可以根据多种特征进行组合，二阶特征的系数由于样本可能不覆盖某种情况，导致该系数为零，所以FM对系数的求解采用的MF的方法，进行矩阵补全，从而得到相关系数。"
   ]
  },
  {
   "cell_type": "markdown",
   "metadata": {},
   "source": [
    "## 2.FFM与FM有哪些区别？"
   ]
  },
  {
   "cell_type": "markdown",
   "metadata": {},
   "source": [
    "### FFM在FM的基础上增加了“场”的概念。one-hot编码以后是一个非常稀疏的矩阵，添加场的概念将原本为同一特征的量归为一类，更容易发现特征间的关系，某个特征和其他特征组合的时候会有不同的系数，但是这也就导致了时间复杂度的升高。"
   ]
  },
  {
   "cell_type": "markdown",
   "metadata": {},
   "source": [
    "## 3.DeepFM相比于FM解决了哪些问题，原理是怎样的"
   ]
  },
  {
   "cell_type": "markdown",
   "metadata": {},
   "source": [
    "### 当想要对特征之间增加三阶特征建模的时候，对于FM来讲计算量很大。这时候就可以用DeepFM的神经网络DNN部分来处理更高维度的特征组合。DeepFM=FM+DNN,既考虑到了低阶（1和2），又能考虑到高阶特征。"
   ]
  },
  {
   "cell_type": "markdown",
   "metadata": {},
   "source": [
    "## 4.假设一个小说网站，有N部小说，每部小说都有摘要描述。如何针对该网站制定基于内容的推荐系统，即用户看了某部小说后，推荐其他相关的小说。原理和步骤是怎样的"
   ]
  },
  {
   "cell_type": "markdown",
   "metadata": {},
   "source": [
    "### 1.对小说的摘要进行特征提取：N-Gram,提取N个连续字的集合作为特征，然后生成TFIDF矩阵。\n",
    "### 2.计算各个摘要间的余弦相似度矩阵\n",
    "### 3.对于各个摘要，选择相似度最大的Top-k个小说进行推荐。"
   ]
  },
  {
   "cell_type": "markdown",
   "metadata": {},
   "source": [
    "## 5.Word2Vec的应用场景有哪些"
   ]
  },
  {
   "cell_type": "markdown",
   "metadata": {},
   "source": [
    "### 可以表征为一种顺序。可以根据一个语料库进行建模，然后计算和某个词相近的词；除此之外还有其他领域的应用，比如用户进入网上商城以后点击的各种商品的顺序，用来推荐商品；在选择手机壁纸和主题的时候根据点击的顺序进行推荐等。"
   ]
  },
  {
   "cell_type": "code",
   "execution_count": null,
   "metadata": {},
   "outputs": [],
   "source": []
  }
 ],
 "metadata": {
  "kernelspec": {
   "display_name": "Python 3",
   "language": "python",
   "name": "python3"
  },
  "language_info": {
   "codemirror_mode": {
    "name": "ipython",
    "version": 3
   },
   "file_extension": ".py",
   "mimetype": "text/x-python",
   "name": "python",
   "nbconvert_exporter": "python",
   "pygments_lexer": "ipython3",
   "version": "3.7.3"
  }
 },
 "nbformat": 4,
 "nbformat_minor": 2
}
