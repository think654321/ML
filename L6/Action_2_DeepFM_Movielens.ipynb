{
  "nbformat": 4,
  "nbformat_minor": 0,
  "metadata": {
    "colab": {
      "name": "DeepFM_Movielens.ipynb",
      "provenance": [],
      "collapsed_sections": []
    },
    "kernelspec": {
      "name": "python3",
      "display_name": "Python 3"
    },
    "accelerator": "GPU"
  },
  "cells": [
    {
      "cell_type": "code",
      "metadata": {
        "id": "A-W4GK4C05a6",
        "colab_type": "code",
        "colab": {}
      },
      "source": [
        "from google.colab import drive"
      ],
      "execution_count": 0,
      "outputs": []
    },
    {
      "cell_type": "code",
      "metadata": {
        "id": "hYZLvset1Dn9",
        "colab_type": "code",
        "colab": {
          "base_uri": "https://localhost:8080/",
          "height": 122
        },
        "outputId": "0445d3d2-13e3-4d9d-932a-eb75df7eb219"
      },
      "source": [
        "drive.mount('/content/drive')"
      ],
      "execution_count": 3,
      "outputs": [
        {
          "output_type": "stream",
          "text": [
            "Go to this URL in a browser: https://accounts.google.com/o/oauth2/auth?client_id=947318989803-6bn6qk8qdgf4n4g3pfee6491hc0brc4i.apps.googleusercontent.com&redirect_uri=urn%3aietf%3awg%3aoauth%3a2.0%3aoob&response_type=code&scope=email%20https%3a%2f%2fwww.googleapis.com%2fauth%2fdocs.test%20https%3a%2f%2fwww.googleapis.com%2fauth%2fdrive%20https%3a%2f%2fwww.googleapis.com%2fauth%2fdrive.photos.readonly%20https%3a%2f%2fwww.googleapis.com%2fauth%2fpeopleapi.readonly\n",
            "\n",
            "Enter your authorization code:\n",
            "··········\n",
            "Mounted at /content/drive\n"
          ],
          "name": "stdout"
        }
      ]
    },
    {
      "cell_type": "code",
      "metadata": {
        "id": "HnaAeMSy1F1H",
        "colab_type": "code",
        "colab": {}
      },
      "source": [
        "import os\n",
        "os.chdir(\"/content/drive/My Drive/Colab Notebooks/L6\")"
      ],
      "execution_count": 0,
      "outputs": []
    },
    {
      "cell_type": "code",
      "metadata": {
        "id": "qNyPAEgE1Pt2",
        "colab_type": "code",
        "colab": {
          "base_uri": "https://localhost:8080/",
          "height": 304
        },
        "outputId": "b285e099-a510-4ee0-a4b7-375eb57059ba"
      },
      "source": [
        "!pip install deepctr\n",
        "import pandas as pd\n",
        "from sklearn.metrics import mean_squared_error\n",
        "from sklearn.model_selection import train_test_split\n",
        "from sklearn.preprocessing import LabelEncoder\n",
        "from deepctr.models import DeepFM\n",
        "from deepctr.inputs import SparseFeat,get_feature_names"
      ],
      "execution_count": 5,
      "outputs": [
        {
          "output_type": "stream",
          "text": [
            "Collecting deepctr\n",
            "\u001b[?25l  Downloading https://files.pythonhosted.org/packages/f2/f8/6980aa97741a6b7a1548116cb968d3bd3cf5f48bf5afe23b1a8024ddd3ba/deepctr-0.7.4-py3-none-any.whl (81kB)\n",
            "\r\u001b[K     |████                            | 10kB 33.1MB/s eta 0:00:01\r\u001b[K     |████████                        | 20kB 3.0MB/s eta 0:00:01\r\u001b[K     |████████████                    | 30kB 4.4MB/s eta 0:00:01\r\u001b[K     |████████████████                | 40kB 2.9MB/s eta 0:00:01\r\u001b[K     |████████████████████            | 51kB 3.6MB/s eta 0:00:01\r\u001b[K     |████████████████████████        | 61kB 4.3MB/s eta 0:00:01\r\u001b[K     |████████████████████████████    | 71kB 5.0MB/s eta 0:00:01\r\u001b[K     |████████████████████████████████| 81kB 5.6MB/s eta 0:00:01\r\u001b[K     |████████████████████████████████| 92kB 4.6MB/s \n",
            "\u001b[?25hRequirement already satisfied: requests in /usr/local/lib/python3.6/dist-packages (from deepctr) (2.21.0)\n",
            "Requirement already satisfied: h5py in /usr/local/lib/python3.6/dist-packages (from deepctr) (2.8.0)\n",
            "Requirement already satisfied: urllib3<1.25,>=1.21.1 in /usr/local/lib/python3.6/dist-packages (from requests->deepctr) (1.24.3)\n",
            "Requirement already satisfied: chardet<3.1.0,>=3.0.2 in /usr/local/lib/python3.6/dist-packages (from requests->deepctr) (3.0.4)\n",
            "Requirement already satisfied: idna<2.9,>=2.5 in /usr/local/lib/python3.6/dist-packages (from requests->deepctr) (2.8)\n",
            "Requirement already satisfied: certifi>=2017.4.17 in /usr/local/lib/python3.6/dist-packages (from requests->deepctr) (2019.11.28)\n",
            "Requirement already satisfied: six in /usr/local/lib/python3.6/dist-packages (from h5py->deepctr) (1.12.0)\n",
            "Requirement already satisfied: numpy>=1.7 in /usr/local/lib/python3.6/dist-packages (from h5py->deepctr) (1.18.2)\n",
            "Installing collected packages: deepctr\n",
            "Successfully installed deepctr-0.7.4\n"
          ],
          "name": "stdout"
        },
        {
          "output_type": "display_data",
          "data": {
            "text/html": [
              "<p style=\"color: red;\">\n",
              "The default version of TensorFlow in Colab will soon switch to TensorFlow 2.x.<br>\n",
              "We recommend you <a href=\"https://www.tensorflow.org/guide/migrate\" target=\"_blank\">upgrade</a> now \n",
              "or ensure your notebook will continue to use TensorFlow 1.x via the <code>%tensorflow_version 1.x</code> magic:\n",
              "<a href=\"https://colab.research.google.com/notebooks/tensorflow_version.ipynb\" target=\"_blank\">more info</a>.</p>\n"
            ],
            "text/plain": [
              "<IPython.core.display.HTML object>"
            ]
          },
          "metadata": {
            "tags": []
          }
        }
      ]
    },
    {
      "cell_type": "code",
      "metadata": {
        "id": "GzkneaGr1oq4",
        "colab_type": "code",
        "colab": {
          "base_uri": "https://localhost:8080/",
          "height": 139
        },
        "outputId": "cab913fb-9bdc-4bab-85c9-a78b3b1d96a3"
      },
      "source": [
        "df = pd.read_csv('./movielens_data/ratings.dat', sep = '::',header = None)\n",
        "movies = pd.read_csv('./movielens_data/movies.dat', sep = '::',header = None)\n",
        "users = pd.read_csv('./movielens_data/users.dat', sep = '::',header = None)\n",
        "df.columns = ['userId','movieId','Rating','timestamp']\n",
        "movies.columns = ['movieId','name','tag']\n",
        "users.columns = ['userId','sex','age','occupation','zipcode']\n",
        "df_tmp = pd.merge(df, movies, on = 'movieId')\n",
        "data_whole = pd.merge(df_tmp,users, on = 'userId')"
      ],
      "execution_count": 6,
      "outputs": [
        {
          "output_type": "stream",
          "text": [
            "/usr/local/lib/python3.6/dist-packages/ipykernel_launcher.py:1: ParserWarning: Falling back to the 'python' engine because the 'c' engine does not support regex separators (separators > 1 char and different from '\\s+' are interpreted as regex); you can avoid this warning by specifying engine='python'.\n",
            "  \"\"\"Entry point for launching an IPython kernel.\n",
            "/usr/local/lib/python3.6/dist-packages/ipykernel_launcher.py:2: ParserWarning: Falling back to the 'python' engine because the 'c' engine does not support regex separators (separators > 1 char and different from '\\s+' are interpreted as regex); you can avoid this warning by specifying engine='python'.\n",
            "  \n",
            "/usr/local/lib/python3.6/dist-packages/ipykernel_launcher.py:3: ParserWarning: Falling back to the 'python' engine because the 'c' engine does not support regex separators (separators > 1 char and different from '\\s+' are interpreted as regex); you can avoid this warning by specifying engine='python'.\n",
            "  This is separate from the ipykernel package so we can avoid doing imports until\n"
          ],
          "name": "stderr"
        }
      ]
    },
    {
      "cell_type": "code",
      "metadata": {
        "id": "eSAffGk44OI6",
        "colab_type": "code",
        "colab": {
          "base_uri": "https://localhost:8080/",
          "height": 204
        },
        "outputId": "b42a3bda-0885-4daf-ff8b-1f1151eff1f4"
      },
      "source": [
        "data_whole.head()"
      ],
      "execution_count": 7,
      "outputs": [
        {
          "output_type": "execute_result",
          "data": {
            "text/html": [
              "<div>\n",
              "<style scoped>\n",
              "    .dataframe tbody tr th:only-of-type {\n",
              "        vertical-align: middle;\n",
              "    }\n",
              "\n",
              "    .dataframe tbody tr th {\n",
              "        vertical-align: top;\n",
              "    }\n",
              "\n",
              "    .dataframe thead th {\n",
              "        text-align: right;\n",
              "    }\n",
              "</style>\n",
              "<table border=\"1\" class=\"dataframe\">\n",
              "  <thead>\n",
              "    <tr style=\"text-align: right;\">\n",
              "      <th></th>\n",
              "      <th>userId</th>\n",
              "      <th>movieId</th>\n",
              "      <th>Rating</th>\n",
              "      <th>timestamp</th>\n",
              "      <th>name</th>\n",
              "      <th>tag</th>\n",
              "      <th>sex</th>\n",
              "      <th>age</th>\n",
              "      <th>occupation</th>\n",
              "      <th>zipcode</th>\n",
              "    </tr>\n",
              "  </thead>\n",
              "  <tbody>\n",
              "    <tr>\n",
              "      <th>0</th>\n",
              "      <td>1</td>\n",
              "      <td>1193</td>\n",
              "      <td>5</td>\n",
              "      <td>978300760</td>\n",
              "      <td>One Flew Over the Cuckoo's Nest (1975)</td>\n",
              "      <td>Drama</td>\n",
              "      <td>F</td>\n",
              "      <td>1</td>\n",
              "      <td>10</td>\n",
              "      <td>48067</td>\n",
              "    </tr>\n",
              "    <tr>\n",
              "      <th>1</th>\n",
              "      <td>1</td>\n",
              "      <td>661</td>\n",
              "      <td>3</td>\n",
              "      <td>978302109</td>\n",
              "      <td>James and the Giant Peach (1996)</td>\n",
              "      <td>Animation|Children's|Musical</td>\n",
              "      <td>F</td>\n",
              "      <td>1</td>\n",
              "      <td>10</td>\n",
              "      <td>48067</td>\n",
              "    </tr>\n",
              "    <tr>\n",
              "      <th>2</th>\n",
              "      <td>1</td>\n",
              "      <td>914</td>\n",
              "      <td>3</td>\n",
              "      <td>978301968</td>\n",
              "      <td>My Fair Lady (1964)</td>\n",
              "      <td>Musical|Romance</td>\n",
              "      <td>F</td>\n",
              "      <td>1</td>\n",
              "      <td>10</td>\n",
              "      <td>48067</td>\n",
              "    </tr>\n",
              "    <tr>\n",
              "      <th>3</th>\n",
              "      <td>1</td>\n",
              "      <td>3408</td>\n",
              "      <td>4</td>\n",
              "      <td>978300275</td>\n",
              "      <td>Erin Brockovich (2000)</td>\n",
              "      <td>Drama</td>\n",
              "      <td>F</td>\n",
              "      <td>1</td>\n",
              "      <td>10</td>\n",
              "      <td>48067</td>\n",
              "    </tr>\n",
              "    <tr>\n",
              "      <th>4</th>\n",
              "      <td>1</td>\n",
              "      <td>2355</td>\n",
              "      <td>5</td>\n",
              "      <td>978824291</td>\n",
              "      <td>Bug's Life, A (1998)</td>\n",
              "      <td>Animation|Children's|Comedy</td>\n",
              "      <td>F</td>\n",
              "      <td>1</td>\n",
              "      <td>10</td>\n",
              "      <td>48067</td>\n",
              "    </tr>\n",
              "  </tbody>\n",
              "</table>\n",
              "</div>"
            ],
            "text/plain": [
              "   userId  movieId  Rating  timestamp  ... sex age occupation  zipcode\n",
              "0       1     1193       5  978300760  ...   F   1         10    48067\n",
              "1       1      661       3  978302109  ...   F   1         10    48067\n",
              "2       1      914       3  978301968  ...   F   1         10    48067\n",
              "3       1     3408       4  978300275  ...   F   1         10    48067\n",
              "4       1     2355       5  978824291  ...   F   1         10    48067\n",
              "\n",
              "[5 rows x 10 columns]"
            ]
          },
          "metadata": {
            "tags": []
          },
          "execution_count": 7
        }
      ]
    },
    {
      "cell_type": "code",
      "metadata": {
        "id": "AkT3devn8VcY",
        "colab_type": "code",
        "colab": {
          "base_uri": "https://localhost:8080/",
          "height": 34
        },
        "outputId": "83ef13cf-5ce1-42f8-af10-ba74cd92e1c8"
      },
      "source": [
        "data_whole.shape"
      ],
      "execution_count": 9,
      "outputs": [
        {
          "output_type": "execute_result",
          "data": {
            "text/plain": [
              "(1000209, 10)"
            ]
          },
          "metadata": {
            "tags": []
          },
          "execution_count": 9
        }
      ]
    },
    {
      "cell_type": "code",
      "metadata": {
        "id": "vswyY2cq8lD-",
        "colab_type": "code",
        "colab": {}
      },
      "source": [
        "sparse_features = [\"movieId\", \"userId\", \"sex\", \"age\", \"occupation\", \"zipcode\"]\n",
        "target = ['Rating']"
      ],
      "execution_count": 0,
      "outputs": []
    },
    {
      "cell_type": "code",
      "metadata": {
        "id": "0pDgZyCo9M_D",
        "colab_type": "code",
        "colab": {}
      },
      "source": [
        "# 对特征标签进行编码\n",
        "for feature in sparse_features:\n",
        "    lbe = LabelEncoder()\n",
        "    data_whole[feature] = lbe.fit_transform(data_whole[feature])"
      ],
      "execution_count": 0,
      "outputs": []
    },
    {
      "cell_type": "code",
      "metadata": {
        "id": "YIao4iU-9QLu",
        "colab_type": "code",
        "colab": {}
      },
      "source": [
        "# 计算每个特征中的 不同特征值的个数\n",
        "fixlen_feature_columns = [SparseFeat(feature, data_whole[feature].nunique()) for feature in sparse_features]\n",
        "linear_feature_columns = fixlen_feature_columns\n",
        "dnn_feature_columns = fixlen_feature_columns\n",
        "feature_names = get_feature_names(linear_feature_columns + dnn_feature_columns)"
      ],
      "execution_count": 0,
      "outputs": []
    },
    {
      "cell_type": "code",
      "metadata": {
        "id": "YjtlT5T592gG",
        "colab_type": "code",
        "colab": {}
      },
      "source": [
        "# 将数据集切分成训练集和测试集\n",
        "train, test = train_test_split(data_whole, test_size=0.2)\n",
        "train_model_input = {name:train[name].values for name in feature_names}\n",
        "test_model_input = {name:test[name].values for name in feature_names}"
      ],
      "execution_count": 0,
      "outputs": []
    },
    {
      "cell_type": "code",
      "metadata": {
        "id": "kDOI5ezq980k",
        "colab_type": "code",
        "colab": {
          "base_uri": "https://localhost:8080/",
          "height": 394
        },
        "outputId": "a4740348-2cd2-4910-c872-299d3c004d6f"
      },
      "source": [
        "# 使用DeepFM进行训练\n",
        "model = DeepFM(linear_feature_columns, dnn_feature_columns, task='regression')\n",
        "model.compile(\"adam\", \"mse\", metrics=['mse'], )\n",
        "history = model.fit(train_model_input, train[target].values, batch_size=256, epochs=10, verbose=True, validation_split=0.2)"
      ],
      "execution_count": 29,
      "outputs": [
        {
          "output_type": "stream",
          "text": [
            "Train on 640133 samples, validate on 160034 samples\n",
            "Epoch 1/10\n",
            "640133/640133 [==============================] - 17s 26us/sample - loss: 1.0073 - mean_squared_error: 1.0066 - val_loss: 0.8353 - val_mean_squared_error: 0.8341\n",
            "Epoch 2/10\n",
            "640133/640133 [==============================] - 16s 26us/sample - loss: 0.8156 - mean_squared_error: 0.8138 - val_loss: 0.8063 - val_mean_squared_error: 0.8040\n",
            "Epoch 3/10\n",
            "640133/640133 [==============================] - 17s 26us/sample - loss: 0.7962 - mean_squared_error: 0.7932 - val_loss: 0.7958 - val_mean_squared_error: 0.7923\n",
            "Epoch 4/10\n",
            "640133/640133 [==============================] - 16s 25us/sample - loss: 0.7791 - mean_squared_error: 0.7750 - val_loss: 0.7945 - val_mean_squared_error: 0.7898\n",
            "Epoch 5/10\n",
            "640133/640133 [==============================] - 16s 25us/sample - loss: 0.7655 - mean_squared_error: 0.7602 - val_loss: 0.7827 - val_mean_squared_error: 0.7769\n",
            "Epoch 6/10\n",
            "640133/640133 [==============================] - 16s 25us/sample - loss: 0.7552 - mean_squared_error: 0.7488 - val_loss: 0.7809 - val_mean_squared_error: 0.7740\n",
            "Epoch 7/10\n",
            "640133/640133 [==============================] - 16s 25us/sample - loss: 0.7464 - mean_squared_error: 0.7390 - val_loss: 0.7767 - val_mean_squared_error: 0.7689\n",
            "Epoch 8/10\n",
            "640133/640133 [==============================] - 16s 25us/sample - loss: 0.7372 - mean_squared_error: 0.7289 - val_loss: 0.7766 - val_mean_squared_error: 0.7679\n",
            "Epoch 9/10\n",
            "640133/640133 [==============================] - 16s 26us/sample - loss: 0.7287 - mean_squared_error: 0.7195 - val_loss: 0.7763 - val_mean_squared_error: 0.7667\n",
            "Epoch 10/10\n",
            "640133/640133 [==============================] - 16s 25us/sample - loss: 0.7213 - mean_squared_error: 0.7112 - val_loss: 0.7802 - val_mean_squared_error: 0.7697\n"
          ],
          "name": "stdout"
        }
      ]
    },
    {
      "cell_type": "code",
      "metadata": {
        "id": "Wbux_YQS_QtJ",
        "colab_type": "code",
        "colab": {}
      },
      "source": [
        "# 使用DeepFM进行预测\n",
        "pred_ans = model.predict(test_model_input, batch_size=256)"
      ],
      "execution_count": 0,
      "outputs": []
    },
    {
      "cell_type": "code",
      "metadata": {
        "id": "pFgJijpw_roc",
        "colab_type": "code",
        "colab": {}
      },
      "source": [
        "# 输出RMSE或MSE\n",
        "mse = round(mean_squared_error(test[target].values, pred_ans), 4)"
      ],
      "execution_count": 0,
      "outputs": []
    },
    {
      "cell_type": "code",
      "metadata": {
        "id": "5LDeAvvb_tct",
        "colab_type": "code",
        "colab": {}
      },
      "source": [
        "rmse = mse ** 0.5"
      ],
      "execution_count": 0,
      "outputs": []
    },
    {
      "cell_type": "code",
      "metadata": {
        "id": "jQhjJn6H_vDr",
        "colab_type": "code",
        "colab": {
          "base_uri": "https://localhost:8080/",
          "height": 34
        },
        "outputId": "9cf2687a-d423-446f-a0cb-5ce1c9a71373"
      },
      "source": [
        "print(\"test RMSE\", rmse)"
      ],
      "execution_count": 33,
      "outputs": [
        {
          "output_type": "stream",
          "text": [
            "test RMSE 0.8782938005018593\n"
          ],
          "name": "stdout"
        }
      ]
    },
    {
      "cell_type": "code",
      "metadata": {
        "id": "blx8G1b0_zKI",
        "colab_type": "code",
        "colab": {
          "base_uri": "https://localhost:8080/",
          "height": 136
        },
        "outputId": "47eb3ca5-36f9-4c28-fc5f-bfa91acce832"
      },
      "source": [
        "pred_ans"
      ],
      "execution_count": 34,
      "outputs": [
        {
          "output_type": "execute_result",
          "data": {
            "text/plain": [
              "array([[3.5270753],\n",
              "       [3.3718133],\n",
              "       [3.1850855],\n",
              "       ...,\n",
              "       [3.068005 ],\n",
              "       [3.8828633],\n",
              "       [4.605917 ]], dtype=float32)"
            ]
          },
          "metadata": {
            "tags": []
          },
          "execution_count": 34
        }
      ]
    },
    {
      "cell_type": "code",
      "metadata": {
        "id": "-hJmI18x_062",
        "colab_type": "code",
        "colab": {
          "base_uri": "https://localhost:8080/",
          "height": 136
        },
        "outputId": "2052b5ee-4be8-4e01-8e1a-a731a03a08a6"
      },
      "source": [
        "test[target].values"
      ],
      "execution_count": 35,
      "outputs": [
        {
          "output_type": "execute_result",
          "data": {
            "text/plain": [
              "array([[1],\n",
              "       [4],\n",
              "       [4],\n",
              "       ...,\n",
              "       [3],\n",
              "       [4],\n",
              "       [5]])"
            ]
          },
          "metadata": {
            "tags": []
          },
          "execution_count": 35
        }
      ]
    },
    {
      "cell_type": "code",
      "metadata": {
        "id": "G__fxJMR__W_",
        "colab_type": "code",
        "colab": {}
      },
      "source": [
        ""
      ],
      "execution_count": 0,
      "outputs": []
    }
  ]
}