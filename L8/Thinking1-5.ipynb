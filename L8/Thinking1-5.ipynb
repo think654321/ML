{
 "cells": [
  {
   "cell_type": "markdown",
   "metadata": {},
   "source": [
    "## 1.什么是近似最近邻查找，常用的方法有哪些"
   ]
  },
  {
   "cell_type": "markdown",
   "metadata": {},
   "source": [
    "### 近似最近邻查找就是在牺牲可接受范围内的精度的情况下提高检索的效率。常用的方法有LSH, Locality-Sensitive Hashing, 局部敏感哈希。\n",
    "### LSH:将相邻的数据，通过映射后依然保持相邻的关系，即保持局部的敏感度。通过Hash Function,每个Bucket会落入一些原始数据，属于同一个筒的数据有很大可能是相邻的。在同一个桶里就能查找到近似相邻的元素。"
   ]
  },
  {
   "cell_type": "markdown",
   "metadata": {},
   "source": [
    "## 2.为什么两个集合的minhash值相同的概率等于这两个集合的Jaccard相似度"
   ]
  },
  {
   "cell_type": "markdown",
   "metadata": {},
   "source": [
    "### 对于两列数据Ci和Cj,对应的特征行有三种可能，（1）两列的值都是1；（2）一个为0，另一个为1；（3）两列都是0.都是零的行不参与计算，所以忽略掉。MinHash记录的是Ci和Cj第一个特征出现的行数，相等表示出现同一特征，不相等表示Ci和Cj不是同时拥有某个特征，当多次随机时，P(Ci=Cj) = a/a+b,而Jaccard相似度的计算也是a/a+b."
   ]
  },
  {
   "cell_type": "markdown",
   "metadata": {},
   "source": [
    "## 3.SimHash在计算文档相似度的作用是怎样的？"
   ]
  },
  {
   "cell_type": "markdown",
   "metadata": {},
   "source": [
    "### 算法流程：\n",
    "### (1).设置SimHash的位数，需要综合考虑存储的成本以及数据集的大小。\n",
    "### (2).初始化SimHash,各位初始化为0\n",
    "### (3).提取文本中的特征，比如采用2-shingles\n",
    "### (4).使用传统的哈希函数计算各个word的hashcode\n",
    "### (5).对各word的hashcode的每一位，如果该位为1，则simhash相应的值加它的权重；否则减它的权重\n",
    "### (6).计算最后得到的simehash,如果该位大于1，则设为1，否则设为0\n",
    "### 计算文档相似度：\n",
    "### 假设我们认为两个文档simhash的hamming距离在3以内就是相似的，那么我们可以将simhash分成4段，如果两个simhash的haming距离为3，那么至少有一段的simhash是相同的\n",
    "### 采用索引的方式进行查找加速，取出每一段相同的候选文本\n"
   ]
  },
  {
   "cell_type": "markdown",
   "metadata": {},
   "source": [
    "## 4.为什么YouTube采用期望观看时间作为评估指标"
   ]
  },
  {
   "cell_type": "markdown",
   "metadata": {},
   "source": [
    "### 观看的时长信息相对于是否点击来说更有价值，对于不同长度的视频来说，收益是不一样的，所以以时长为评估指标更有价值。"
   ]
  },
  {
   "cell_type": "markdown",
   "metadata": {},
   "source": [
    "## 5.为什么YouTube在排序阶段没有采用经典的LR（逻辑回归）当作输出层，而是采用了Weighted Logistic Regression？"
   ]
  },
  {
   "cell_type": "markdown",
   "metadata": {},
   "source": [
    "### YouTube在排序阶段将观看时长作为评估指标，逻辑回归概率值的分子部分替换为观看时长的和，分母替换为N-k,即把负样本的观看时长记为1."
   ]
  },
  {
   "cell_type": "code",
   "execution_count": null,
   "metadata": {},
   "outputs": [],
   "source": []
  }
 ],
 "metadata": {
  "kernelspec": {
   "display_name": "Python 3",
   "language": "python",
   "name": "python3"
  },
  "language_info": {
   "codemirror_mode": {
    "name": "ipython",
    "version": 3
   },
   "file_extension": ".py",
   "mimetype": "text/x-python",
   "name": "python",
   "nbconvert_exporter": "python",
   "pygments_lexer": "ipython3",
   "version": "3.7.3"
  }
 },
 "nbformat": 4,
 "nbformat_minor": 2
}
