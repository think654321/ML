{
 "cells": [
  {
   "cell_type": "code",
   "execution_count": 1,
   "metadata": {},
   "outputs": [],
   "source": [
    "from datasketch import MinHash, MinHashLSHForest\n",
    "import jieba.posseg as pseg\n",
    "import re"
   ]
  },
  {
   "cell_type": "code",
   "execution_count": 2,
   "metadata": {},
   "outputs": [],
   "source": [
    "f = open('../Data/weibos.txt', 'r', encoding='UTF-8')\n",
    "text = f.read()"
   ]
  },
  {
   "cell_type": "code",
   "execution_count": 3,
   "metadata": {},
   "outputs": [],
   "source": [
    "sentences = re.split('[。！？]', text.replace('\\n',''))"
   ]
  },
  {
   "cell_type": "code",
   "execution_count": 4,
   "metadata": {},
   "outputs": [],
   "source": [
    "if sentences[len(sentences)-1] == '':\n",
    "    sentences.pop()"
   ]
  },
  {
   "cell_type": "code",
   "execution_count": 5,
   "metadata": {},
   "outputs": [
    {
     "data": {
      "text/plain": [
       "38"
      ]
     },
     "execution_count": 5,
     "metadata": {},
     "output_type": "execute_result"
    }
   ],
   "source": [
    "len(sentences)"
   ]
  },
  {
   "cell_type": "code",
   "execution_count": 6,
   "metadata": {},
   "outputs": [],
   "source": [
    "def get_item_str(item_text):\n",
    "    item_str = \"\" \n",
    "    item=(pseg.cut(item_text)) \n",
    "    for i in list(item):\n",
    "        item_str += i.word\n",
    "        #tfidf_vectorizer.fit_transform的输入需要空格分隔的单词\n",
    "        item_str += \" \"\n",
    "    return item_str"
   ]
  },
  {
   "cell_type": "code",
   "execution_count": 7,
   "metadata": {},
   "outputs": [],
   "source": [
    "def get_minhash(item_str):\n",
    "    temp = MinHash()\n",
    "    for d in item_str:\n",
    "        temp.update(d.encode('utf8'))\n",
    "    return temp"
   ]
  },
  {
   "cell_type": "code",
   "execution_count": 8,
   "metadata": {},
   "outputs": [],
   "source": [
    "documents = []"
   ]
  },
  {
   "cell_type": "code",
   "execution_count": 9,
   "metadata": {},
   "outputs": [
    {
     "name": "stderr",
     "output_type": "stream",
     "text": [
      "Building prefix dict from the default dictionary ...\n",
      "Loading model from cache /var/folders/kx/c23rfdt90yl754z4w1cmj_q40000gn/T/jieba.cache\n",
      "Loading model cost 0.695 seconds.\n",
      "Prefix dict has been built successfully.\n"
     ]
    }
   ],
   "source": [
    "for item_text in sentences:\n",
    "    # 将item_text进行分词\n",
    "    item_str = get_item_str(item_text)\n",
    "    documents.append(item_str)"
   ]
  },
  {
   "cell_type": "code",
   "execution_count": 10,
   "metadata": {},
   "outputs": [
    {
     "name": "stdout",
     "output_type": "stream",
     "text": [
      "['# 斯科拉里 愿意 执教 国足 # 上 一届 如果 是 里 皮 从头 芾 到 尾 ， 是 很大 机会 入 世界杯 的 ， 这 一届 ， 没 几个 能用 的 ， 除非 大力 归化 ， 谁 来 都 没用 ', '  \\u200b 国 足 输给 叙利亚 之后 ， 里 皮 辞职 ', '谁 将 成为 新 主帅 ， 成为 广大 球迷 关注 的 焦点 ', '目前 舆论 方面 ， 倾向 于 三个 人 ： 山东鲁能 主帅 李霄鹏 、 武汉 卓尔 主帅 李铁 、 前 广州 恒大 主帅 斯科拉里 ', '  \\u200b 据 了解 ， 无论 中国足协 态度 如何 ， 里 皮 其实 在 宣布 请辞 同时 已经 去 意 已 决 ', '据 了解 ', '比赛 当晚 ， 他 的 太太 西蒙内塔 女士 及 儿子 小里皮 都 在 现场 看 台上 观战 ', '辞职 后 的 里皮 没有 改变 原有 的 计划 — — 赛后 第二天 他 会 从 迪拜 直接 飞 回 意大利 ', '这 意味着 ， 他 本来 也 没 打算 与 球队 管理层 或 中国足协 高层 在 赛后 第一 时间 内 进行 有关 辞职 的 对话 ', '至于 辞职 以后 的 善后工作 包括 合同 问题 的 沟通 工作 也 要待 日后 双方 进一步 协商 ', '让 我们 回顾 一下 国 足 历届 外籍 教练 — — 里 皮 ， 佩兰 ， 卡马乔 ， 杜伊 科维奇 ， 阿里 · 汉 ， 米卢 … … ', '来 之前 一个 比 一个 有名 ， 来 之后 一个 比 一个 水 ， 国足 踢 不好 完全 是 足协 的 问题 ， 足协 不 解散 重组 ， 你 把 天王老子 请来 都 不行 斯科拉里 想 执教 中国 国 足 ', '老头 有点 意思 ， 凡是 里 皮 干 过 的 地方 ， 他 就 想 试试 ', '当然 ， 老头 也 是 世界杯 冠军 教头 ， 万一 折 在 中国 这里 也 没 啥 丢人 的 ， 毕竟 里 皮 也 折 了 嘛 ', '可以 试试 ', '斯科拉里 的 水平 ， 还 不如 里 皮 ', '斯科拉里 ， 看好 的 不是 国 足 ， 而是 年薪 … …   \\u200b 非常 应该 辞职 ', '中国 足球 ， 不 需要 名帅 ， 也 不 需要 外籍 教练 ， 因为 一点儿 毛用 也 没有 ', '从 施拉普纳 到 现在 ， 二十余年 间 ， 中国 足球 竟然 大踏步 的 倒退 ， 一点儿 也 杀 不住 车 ， 奶奶 的 ， 刹车 系统 坏 了 ', '穿着 几百块 钱 的 球衣 ， 几千块 钱 的 球鞋 ， 几万块 钱 的 包 ， 几十万 的 包机 ， 几百万 上 千万 的 年薪 赛后 ， 叙利亚 主教练 在 更衣室 里 给 每个 队员 一个 耳光 ', '主教练 说 ： “ 赛前 老子 就 再三 交代 ， 这 一场 无论如何 都 不能 赢 中国队 ', '中国 援助 了 我们 那么 多 粮食 和 美金 ， 如果 他们 不再 援助 我们 国家 ， 你 狗日 些 要 吃 土 去 ', '” ， 球员 委屈 的 说 ： “ 七十多 分钟 了 ， 哪个 晓得 那个 龟儿子 往 他们 家 球门 踢 嘛 ', '” 里 皮 辞职 返回 意大利 ， 他 的 助教 马达 洛尼 随队 返回 广州 ', '马达 洛尼 在 接受 采访 时 还原 了 当时 更衣室 中 的 情况 ： “ 当时 在 更衣室 ， 球员 们 都 过来 试图 说服 里 皮 ， 让 他 收回 决定 ， 队长 郑智 尝试 阻止 他 ， 足协 的 代表 也 希望 他 在 考虑一下 ， 我 也 建议 他 重新考虑 ， 但 无济于事 ', '” 中国足协 ： 接受 里 皮 辞职 请求 ， 将 深刻反思 看 了 个 报道 ， 马达 洛尼 说 ： “ 关于 里 皮 的 辞职 ， 我 事先 也 没有 被 告知 ， 自己 也 不 清楚 发生 了 什么 ， 也许 是 里 皮 头脑 一热 的 决定 ', '足协 也 可以 留下 我们 ， 教练组 所有 成员 都 愿意 留下 ， 我们 也 可以 和 其他 教练 合作 ', '”   \\u200b 因为 中国队 给 斯科拉里 开足 了 薪水 ， 给 足 了 他 需要 的 条件 ', '尤其 是 最后 一句 话 ， 看好 中国队 的 潜力 ， 这 句 话 真是太 鼓舞人心 啦 ', '  \\u200b 带队 结果 绝不会 比里皮 更 差 ，   \\u200b 而且 我 一定 能带 国 足 夺得 2022 世界杯 冠军 ', '大家 支持 斯科拉里 不 ', '  \\u200b 曾经 也 以为 世界 名帅 里 皮 能够 带领 国 足 走出 迷茫 ， 让 国足 蒸蒸日上 ， 也 让 我们 国人 不再 迷茫 ， 吃 下 一颗 定心丸 ', '现在 我 才 知道 ， 其实 最 应 改变 的 不是 教练 ， 而是 我们 的 国足 ， 我们 的 训练 机制 、 学习 机制 、 培养 机制 ', '只有 真正 做好 这些 ， 才能 使 无论 哪位 名帅 接手 都 能 游刃有余 地 打好 比赛 ', '国 足 输给 叙利亚 后 ， 里 皮 坐不住 了 ， 直接 辞职 了 难怪 有 网友 说 ， 爱护 生命 ， 远离 男足 ', '男足 的 水平 也 就 跟 南极洲 企鹅 踢球 ', '足协 主席 赠书 《 红星 照 我 去 战斗 》 送给 中国 国脚 ， 埃 尔克 森 、 里 皮 懂 红色 文化 吗 ', '国 足 昨晚 1 - 2 输给 叙利亚 ， 赛后 主帅 里 皮 宣布 辞职 ']\n"
     ]
    }
   ],
   "source": [
    "print(documents)"
   ]
  },
  {
   "cell_type": "code",
   "execution_count": 11,
   "metadata": {},
   "outputs": [],
   "source": [
    "minhash_list = []\n",
    "forest = MinHashLSHForest()"
   ]
  },
  {
   "cell_type": "code",
   "execution_count": 12,
   "metadata": {},
   "outputs": [],
   "source": [
    "for i in range(len(documents)):\n",
    "    #得到train_documents[i]的MinHash\n",
    "    temp = get_minhash(documents[i])\n",
    "    minhash_list.append(temp)\n",
    "    forest.add(i, temp)"
   ]
  },
  {
   "cell_type": "code",
   "execution_count": 13,
   "metadata": {},
   "outputs": [],
   "source": [
    "forest.index()"
   ]
  },
  {
   "cell_type": "code",
   "execution_count": 14,
   "metadata": {},
   "outputs": [],
   "source": [
    "query = '国足的出路'"
   ]
  },
  {
   "cell_type": "code",
   "execution_count": 15,
   "metadata": {},
   "outputs": [],
   "source": [
    "item_str = get_item_str(query)"
   ]
  },
  {
   "cell_type": "code",
   "execution_count": 16,
   "metadata": {},
   "outputs": [],
   "source": [
    "# 得到item_str的MinHash\n",
    "minhash_query = get_minhash(item_str)"
   ]
  },
  {
   "cell_type": "code",
   "execution_count": 17,
   "metadata": {},
   "outputs": [
    {
     "name": "stdout",
     "output_type": "stream",
     "text": [
      "32 0.2109375 现在我才知道，其实最应改变的不是教练，而是我们的国足，我们的训练机制、学习机制、培养机制\n",
      "16 0.2421875 斯科拉里，看好的不是国足，而是年薪……​非常应该辞职\n",
      "28 0.1796875 尤其是最后一句话，看好中国队的潜力，这句话真是太鼓舞人心啦\n",
      "Top 3 邻居 [32, 16, 28]\n"
     ]
    }
   ],
   "source": [
    "result = forest.query(minhash_query, 3)\n",
    "for i in range(len(result)):\n",
    "    print(result[i], minhash_query.jaccard(minhash_list[result[i]]), documents[result[i]].replace(' ', ''))\n",
    "print(\"Top 3 邻居\", result)"
   ]
  },
  {
   "cell_type": "code",
   "execution_count": null,
   "metadata": {},
   "outputs": [],
   "source": []
  }
 ],
 "metadata": {
  "kernelspec": {
   "display_name": "Python 3",
   "language": "python",
   "name": "python3"
  },
  "language_info": {
   "codemirror_mode": {
    "name": "ipython",
    "version": 3
   },
   "file_extension": ".py",
   "mimetype": "text/x-python",
   "name": "python",
   "nbconvert_exporter": "python",
   "pygments_lexer": "ipython3",
   "version": "3.7.3"
  }
 },
 "nbformat": 4,
 "nbformat_minor": 2
}
