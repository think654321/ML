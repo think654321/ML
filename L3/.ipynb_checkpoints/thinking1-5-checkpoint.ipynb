{
 "cells": [
  {
   "cell_type": "markdown",
   "metadata": {},
   "source": [
    "# 1.如何使用用户标签来指导业务（如何提升业务）"
   ]
  },
  {
   "cell_type": "markdown",
   "metadata": {},
   "source": [
    "一方面通过用户经常给别人打的标签来判断该用户的喜好，另一方面通过给物品打标签找到某一标签下的热门物品，然后可以生成相应的推荐列表给用户。"
   ]
  },
  {
   "cell_type": "markdown",
   "metadata": {},
   "source": [
    "# 2.如果给你一堆用户数据，没有打标签。你该如何处理（如何打标签）"
   ]
  },
  {
   "cell_type": "markdown",
   "metadata": {},
   "source": [
    "可以通过聚类的方式来把用户分类，然后对生成的k个分类打上标签；或者根据用户已经有的行为数据来进行判断，打上相应的标签，比如用户在什么时间段比较活跃，经常浏览什么类型的内容等等"
   ]
  },
  {
   "cell_type": "markdown",
   "metadata": {},
   "source": [
    "# 3.准确率和精确率有何不同（评估指标）"
   ]
  },
  {
   "cell_type": "markdown",
   "metadata": {},
   "source": [
    "准确率是预测正确的样例占整个数据集的百分比，而精确率是指预测为正例的样本中，真正为正例的样本所占的比例。\n",
    "如果是一个极度偏斜的数据，比如正例占百分之98，这时如果把所有数据都无差别的判断为正例，此时的准确率为98，是很不合理的；而此时用精确率就会更合理。"
   ]
  },
  {
   "cell_type": "markdown",
   "metadata": {},
   "source": [
    "# 4.如果你使用大众点评，想要给某个餐厅打标签。这时系统可以自动提示一些标签，你会如何设计（标签推荐）"
   ]
  },
  {
   "cell_type": "markdown",
   "metadata": {},
   "source": [
    "一方面根据用户经常给这个餐厅打哪些标签，把这些标签推荐给用户；另一方面，可以根据用户经常打哪些标签来进行推荐，比如一个用户经常打火锅标签的话，说明这个用户可能是火锅爱好者。"
   ]
  },
  {
   "cell_type": "markdown",
   "metadata": {},
   "source": [
    "# 5.我们今天使用了10种方式来解MNIST，这些方法有何不同？你还有其他方法来解决MNIST识别问题么（分类方法）"
   ]
  },
  {
   "cell_type": "markdown",
   "metadata": {},
   "source": [
    "LR是线性模型，用随机梯度下降优化，需要归一化；CART是树模型，根据特征重要性来划分树结构；Adaboost和XGBoost是集成树模型，Adaboost会在每一次计算后增大分类错误的样本的比重；XGBoost每次会对残差进行学习，学习的轮数就是树的个数；SVM也是线性模型，加入核函数可以处理非线性问题；knn是根据距离来进行分类的算法；TPOT是Auto ML的方式，AI写AI，自动发现适合的模型；"
   ]
  },
  {
   "cell_type": "code",
   "execution_count": null,
   "metadata": {},
   "outputs": [],
   "source": []
  }
 ],
 "metadata": {
  "kernelspec": {
   "display_name": "Python 3",
   "language": "python",
   "name": "python3"
  },
  "language_info": {
   "codemirror_mode": {
    "name": "ipython",
    "version": 3
   },
   "file_extension": ".py",
   "mimetype": "text/x-python",
   "name": "python",
   "nbconvert_exporter": "python",
   "pygments_lexer": "ipython3",
   "version": "3.7.3"
  }
 },
 "nbformat": 4,
 "nbformat_minor": 2
}
