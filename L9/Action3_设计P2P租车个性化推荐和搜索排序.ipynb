{
 "cells": [
  {
   "cell_type": "markdown",
   "metadata": {},
   "source": [
    "## 如果你是某P2P租车的技术负责人，你会如何设计个性化推荐和搜索排序\n",
    "## 阐述相似车型，搜索排序的设计方法\n",
    "## 可能的embedding策略"
   ]
  },
  {
   "cell_type": "markdown",
   "metadata": {},
   "source": [
    "租车业务有以下的特点：\n",
    "    1.是个相对低频的事件，大部分用户不会天天租车；\n",
    "    2.一辆车在某段时间内只能被一个用户预定；\n",
    "    3.数据存在严重稀疏性，很难通过某个用户自身的历史行为来判断他接下来可能预定什么车，因为历史样本太少了。\n",
    "    4.是双边的\n",
    "    \n",
    "针对以上特点进行个性化推荐和搜索排序的设计\n",
    "搜索排序：\n",
    "    从顾客的角度可以根据对车所在的位置，价格，车型，空间，油耗，评论等因素来拍获得用户喜欢的listing\n",
    "    而从出租者的角度则要考虑有坏的评论的需要过滤，发生过交通事故，不按时还车，车内不整洁等listing降权；\n",
    "    采用Learning to rnak的方式转化成pairwise regression问题，将预定的listing作为正样本，拒绝的作为负样本。\n",
    "embedding:\n",
    "    将用户点击的汽车的id组成不间断的序列，只要用户连续两次点击时间间隔超过30分钟就认为是一个新的session；通过S,学习出每个汽车listing的d维embedding表示，让相似listing在embedding空间中距离更近。\n",
    "    借鉴word2vec中skip-gram算法，把每个用户连续点击过的房源Session看作一个句子，每个房源当做word,训练出房源的embedding。\n",
    "    此外可以将用户进行分类，根据分类来Embedding。当要给一个用户进行推荐的时候，先判断这个用户属于哪个分类，然后再按照该分类进行进一步的推荐。"
   ]
  },
  {
   "cell_type": "code",
   "execution_count": null,
   "metadata": {},
   "outputs": [],
   "source": []
  }
 ],
 "metadata": {
  "kernelspec": {
   "display_name": "Python 3",
   "language": "python",
   "name": "python3"
  },
  "language_info": {
   "codemirror_mode": {
    "name": "ipython",
    "version": 3
   },
   "file_extension": ".py",
   "mimetype": "text/x-python",
   "name": "python",
   "nbconvert_exporter": "python",
   "pygments_lexer": "ipython3",
   "version": "3.7.3"
  }
 },
 "nbformat": 4,
 "nbformat_minor": 2
}
