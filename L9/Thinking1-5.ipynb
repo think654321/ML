{
 "cells": [
  {
   "cell_type": "markdown",
   "metadata": {},
   "source": [
    "## 1.排序模型按照样本生成方法和损失函数的不同，可以划分成Pointwise, Pairwise, Listwise三类方法，这三类排序方法有何区别\n"
   ]
  },
  {
   "cell_type": "markdown",
   "metadata": {},
   "source": [
    "Pointwise针对单一文档，优点是每个文档为单独训练数据，算法简单；缺点是它侧重的是文档的分类，而忽略了文档间的相似性，无法对文档进行排序。\n",
    "Pairwise关注文档的顺序关系，优点是只需要对所有文档对进行分类，得到文档集的偏序关系；缺点是只考虑每对文档之间的偏序关系，实际上文档对并不是相互独立的，而且不同的查询拥有的文档对数目不同，结果会向拥有文档对较多的查询偏移\n",
    "Listwise将一次查询对应的所有搜索结果列表作为一个训练样例，优点是将一个查询对应的所有搜索结果列表作为一个训练样本；缺点是很难找到合适的目标来代替原有的优化目标，很难找到合适的优化算法进行求解。"
   ]
  },
  {
   "cell_type": "markdown",
   "metadata": {},
   "source": [
    "## 2.排序模型按照结构划分，可以分为线性排序模型、树模型、深度学习模型，这些模型都有哪些典型的代表？"
   ]
  },
  {
   "cell_type": "markdown",
   "metadata": {},
   "source": [
    "线性模型：LR，FM和FFM;\n",
    "树模型：GBDT, GBDT+LR;\n",
    "深度模型：RankNet, LambdaDNN,LambdaDCN,wide&deep,deepFM,NFM"
   ]
  },
  {
   "cell_type": "markdown",
   "metadata": {},
   "source": [
    "## 3.NDCG如何计算"
   ]
  },
  {
   "attachments": {
    "image.png": {
     "image/png": "[encoded data removed]"
    }
   },
   "cell_type": "markdown",
   "metadata": {},
   "source": [
    "NDCG = DCG / IDCG.\n",
    "其中DCG(Discounted CG): 折损累计增益，在每一个CG的结果上除以一个折损值，为了让排名考前的结果更重要。排序越往后价值越低，到第i个位置的时候，价值是1/log2(i+1),那么第i个结果产生的效益就是reli * 1/log2(i+1),所以![image.png](attachment:image.png)\n",
    "IDCG(ideal DCG)：理想情况下最大的DCG值![image.png](attachment:image.png)\n",
    "|REL|表示结果按照相关性从大到小的顺序排序，取前p个结果组成的集合。也就是按照最优的方式对结果进行排序。\n",
    "NDCG(Normalized DCG)：归一化累计收益，综合考虑了模型排序结果和真实序列间的关系。DCG是一个累价值，如果想要体现搜索结果的好坏，就需要对其进行归一化处理。"
   ]
  },
  {
   "cell_type": "markdown",
   "metadata": {},
   "source": [
    "## 4.搜索排序和推荐系统的相同和不同之处有哪些"
   ]
  },
  {
   "cell_type": "markdown",
   "metadata": {},
   "source": [
    "相同：都是通过用户以往的行为来给用户提供他们可能更感兴趣的内容。\n",
    "不同：搜索排序是建立在用户主动搜索的基础上，有一定的目的性，而推荐系统则没有用户的显式查询；\n",
    "     搜索排序关心内容之间的相对位置，倾向于把用户更感兴趣的放在前面，而推荐系统则对推荐结果的顺序不是很敏感；\n",
    "     推荐系统采用pointwise模型较多，预测出来的分数有实际的物理意义，代表用户点击item的预测概率，而搜索排序更多的使用pairwise和listwise；\n",
    "     "
   ]
  },
  {
   "cell_type": "markdown",
   "metadata": {},
   "source": [
    "## 5.Listwise排序模型能否应用到推荐系统中"
   ]
  },
  {
   "cell_type": "markdown",
   "metadata": {},
   "source": [
    "一般情况下Listwise没有必要应用到推荐系统中。推荐更关心的是用户是不是会点击某个商品，而对它们出现的顺序不是特别关心，此外推荐还会有一些探索性的因素加入；另一方面，Listwise方法复杂度会更高，对于推荐系统来说是没有必要的牺牲；推荐系统一般采用pointwise的方法。"
   ]
  },
  {
   "cell_type": "code",
   "execution_count": null,
   "metadata": {},
   "outputs": [],
   "source": []
  }
 ],
 "metadata": {
  "kernelspec": {
   "display_name": "Python 3",
   "language": "python",
   "name": "python3"
  },
  "language_info": {
   "codemirror_mode": {
    "name": "ipython",
    "version": 3
   },
   "file_extension": ".py",
   "mimetype": "text/x-python",
   "name": "python",
   "nbconvert_exporter": "python",
   "pygments_lexer": "ipython3",
   "version": "3.7.3"
  }
 },
 "nbformat": 4,
 "nbformat_minor": 2
}
