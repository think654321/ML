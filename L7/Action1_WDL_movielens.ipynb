{
  "nbformat": 4,
  "nbformat_minor": 0,
  "metadata": {
    "colab": {
      "name": "WDL_movielens.ipynb",
      "provenance": [],
      "collapsed_sections": []
    },
    "kernelspec": {
      "name": "python3",
      "display_name": "Python 3"
    }
  },
  "cells": [
    {
      "cell_type": "code",
      "metadata": {
        "id": "uJGvAiMZSGuy",
        "colab_type": "code",
        "colab": {}
      },
      "source": [
        "from google.colab import drive"
      ],
      "execution_count": 0,
      "outputs": []
    },
    {
      "cell_type": "code",
      "metadata": {
        "id": "yNfk0xQ6SJrz",
        "colab_type": "code",
        "colab": {
          "base_uri": "https://localhost:8080/",
          "height": 122
        },
        "outputId": "f9485a71-c7cc-427a-81be-44feab698516"
      },
      "source": [
        "drive.mount('/content/drive')"
      ],
      "execution_count": 2,
      "outputs": [
        {
          "output_type": "stream",
          "text": [
            "Go to this URL in a browser: https://accounts.google.com/o/oauth2/auth?client_id=947318989803-6bn6qk8qdgf4n4g3pfee6491hc0brc4i.apps.googleusercontent.com&redirect_uri=urn%3aietf%3awg%3aoauth%3a2.0%3aoob&response_type=code&scope=email%20https%3a%2f%2fwww.googleapis.com%2fauth%2fdocs.test%20https%3a%2f%2fwww.googleapis.com%2fauth%2fdrive%20https%3a%2f%2fwww.googleapis.com%2fauth%2fdrive.photos.readonly%20https%3a%2f%2fwww.googleapis.com%2fauth%2fpeopleapi.readonly\n",
            "\n",
            "Enter your authorization code:\n",
            "··········\n",
            "Mounted at /content/drive\n"
          ],
          "name": "stdout"
        }
      ]
    },
    {
      "cell_type": "code",
      "metadata": {
        "id": "udLJcsodSLWX",
        "colab_type": "code",
        "colab": {}
      },
      "source": [
        "import os\n",
        "os.chdir(\"/content/drive/My Drive/Colab Notebooks/L7\")"
      ],
      "execution_count": 0,
      "outputs": []
    },
    {
      "cell_type": "code",
      "metadata": {
        "id": "0zZ0Dk56ST4c",
        "colab_type": "code",
        "colab": {
          "base_uri": "https://localhost:8080/",
          "height": 304
        },
        "outputId": "68b4f2b1-c66b-4bd4-c7a3-4f564e05b05f"
      },
      "source": [
        "!pip install deepctr\n",
        "import pandas as pd\n",
        "from sklearn.metrics import mean_squared_error\n",
        "from sklearn.model_selection import train_test_split\n",
        "from sklearn.preprocessing import LabelEncoder\n",
        "\n",
        "from deepctr.models import WDL\n",
        "from deepctr.inputs import SparseFeat,get_feature_names"
      ],
      "execution_count": 4,
      "outputs": [
        {
          "output_type": "stream",
          "text": [
            "Collecting deepctr\n",
            "\u001b[?25l  Downloading https://files.pythonhosted.org/packages/f2/f8/6980aa97741a6b7a1548116cb968d3bd3cf5f48bf5afe23b1a8024ddd3ba/deepctr-0.7.4-py3-none-any.whl (81kB)\n",
            "\r\u001b[K     |████                            | 10kB 19.7MB/s eta 0:00:01\r\u001b[K     |████████                        | 20kB 1.8MB/s eta 0:00:01\r\u001b[K     |████████████                    | 30kB 2.3MB/s eta 0:00:01\r\u001b[K     |████████████████                | 40kB 1.6MB/s eta 0:00:01\r\u001b[K     |████████████████████            | 51kB 1.9MB/s eta 0:00:01\r\u001b[K     |████████████████████████        | 61kB 2.2MB/s eta 0:00:01\r\u001b[K     |████████████████████████████    | 71kB 2.4MB/s eta 0:00:01\r\u001b[K     |████████████████████████████████| 81kB 2.8MB/s eta 0:00:01\r\u001b[K     |████████████████████████████████| 92kB 2.5MB/s \n",
            "\u001b[?25hRequirement already satisfied: requests in /usr/local/lib/python3.6/dist-packages (from deepctr) (2.21.0)\n",
            "Requirement already satisfied: h5py in /usr/local/lib/python3.6/dist-packages (from deepctr) (2.8.0)\n",
            "Requirement already satisfied: chardet<3.1.0,>=3.0.2 in /usr/local/lib/python3.6/dist-packages (from requests->deepctr) (3.0.4)\n",
            "Requirement already satisfied: certifi>=2017.4.17 in /usr/local/lib/python3.6/dist-packages (from requests->deepctr) (2019.11.28)\n",
            "Requirement already satisfied: urllib3<1.25,>=1.21.1 in /usr/local/lib/python3.6/dist-packages (from requests->deepctr) (1.24.3)\n",
            "Requirement already satisfied: idna<2.9,>=2.5 in /usr/local/lib/python3.6/dist-packages (from requests->deepctr) (2.8)\n",
            "Requirement already satisfied: six in /usr/local/lib/python3.6/dist-packages (from h5py->deepctr) (1.12.0)\n",
            "Requirement already satisfied: numpy>=1.7 in /usr/local/lib/python3.6/dist-packages (from h5py->deepctr) (1.18.2)\n",
            "Installing collected packages: deepctr\n",
            "Successfully installed deepctr-0.7.4\n"
          ],
          "name": "stdout"
        },
        {
          "output_type": "display_data",
          "data": {
            "text/html": [
              "<p style=\"color: red;\">\n",
              "The default version of TensorFlow in Colab will switch to TensorFlow 2.x on the 27th of March, 2020.<br>\n",
              "We recommend you <a href=\"https://www.tensorflow.org/guide/migrate\" target=\"_blank\">upgrade</a> now\n",
              "or ensure your notebook will continue to use TensorFlow 1.x via the <code>%tensorflow_version 1.x</code> magic:\n",
              "<a href=\"https://colab.research.google.com/notebooks/tensorflow_version.ipynb\" target=\"_blank\">more info</a>.</p>\n"
            ],
            "text/plain": [
              "<IPython.core.display.HTML object>"
            ]
          },
          "metadata": {
            "tags": []
          }
        }
      ]
    },
    {
      "cell_type": "code",
      "metadata": {
        "id": "A3h8IgrKSWJd",
        "colab_type": "code",
        "colab": {
          "base_uri": "https://localhost:8080/",
          "height": 139
        },
        "outputId": "93a2a47c-daaf-4e85-d6ff-770e2264acc9"
      },
      "source": [
        "df = pd.read_csv('./movielens_data/ratings.dat', sep = '::',header = None)\n",
        "movies = pd.read_csv('./movielens_data/movies.dat', sep = '::',header = None)\n",
        "users = pd.read_csv('./movielens_data/users.dat', sep = '::',header = None)\n",
        "df.columns = ['userId','movieId','Rating','timestamp']\n",
        "movies.columns = ['movieId','name','tag']\n",
        "users.columns = ['userId','sex','age','occupation','zipcode']\n",
        "df_tmp = pd.merge(df, movies, on = 'movieId')\n",
        "data_whole = pd.merge(df_tmp,users, on = 'userId')"
      ],
      "execution_count": 5,
      "outputs": [
        {
          "output_type": "stream",
          "text": [
            "/usr/local/lib/python3.6/dist-packages/ipykernel_launcher.py:1: ParserWarning: Falling back to the 'python' engine because the 'c' engine does not support regex separators (separators > 1 char and different from '\\s+' are interpreted as regex); you can avoid this warning by specifying engine='python'.\n",
            "  \"\"\"Entry point for launching an IPython kernel.\n",
            "/usr/local/lib/python3.6/dist-packages/ipykernel_launcher.py:2: ParserWarning: Falling back to the 'python' engine because the 'c' engine does not support regex separators (separators > 1 char and different from '\\s+' are interpreted as regex); you can avoid this warning by specifying engine='python'.\n",
            "  \n",
            "/usr/local/lib/python3.6/dist-packages/ipykernel_launcher.py:3: ParserWarning: Falling back to the 'python' engine because the 'c' engine does not support regex separators (separators > 1 char and different from '\\s+' are interpreted as regex); you can avoid this warning by specifying engine='python'.\n",
            "  This is separate from the ipykernel package so we can avoid doing imports until\n"
          ],
          "name": "stderr"
        }
      ]
    },
    {
      "cell_type": "code",
      "metadata": {
        "id": "WNk_apNqS8aI",
        "colab_type": "code",
        "colab": {
          "base_uri": "https://localhost:8080/",
          "height": 34
        },
        "outputId": "123083e6-23f0-4da6-d735-cdeeadd790f5"
      },
      "source": [
        "data_whole.shape"
      ],
      "execution_count": 6,
      "outputs": [
        {
          "output_type": "execute_result",
          "data": {
            "text/plain": [
              "(1000209, 10)"
            ]
          },
          "metadata": {
            "tags": []
          },
          "execution_count": 6
        }
      ]
    },
    {
      "cell_type": "code",
      "metadata": {
        "id": "VILhpJjyTCFP",
        "colab_type": "code",
        "colab": {}
      },
      "source": [
        "sparse_features = [\"movieId\", \"userId\", \"sex\", \"age\", \"occupation\", \"zipcode\"]\n",
        "target = ['Rating']"
      ],
      "execution_count": 0,
      "outputs": []
    },
    {
      "cell_type": "code",
      "metadata": {
        "id": "M3rqqiM-TDAY",
        "colab_type": "code",
        "colab": {}
      },
      "source": [
        "# 对特征标签进行编码\n",
        "for feature in sparse_features:\n",
        "    lbe = LabelEncoder()\n",
        "    data_whole[feature] = lbe.fit_transform(data_whole[feature])"
      ],
      "execution_count": 0,
      "outputs": []
    },
    {
      "cell_type": "code",
      "metadata": {
        "id": "BcYE8c4FTPCg",
        "colab_type": "code",
        "colab": {}
      },
      "source": [
        "# 计算每个特征中的 不同特征值的个数\n",
        "fixlen_feature_columns = [SparseFeat(feature, data_whole[feature].nunique()) for feature in sparse_features]\n",
        "linear_feature_columns = fixlen_feature_columns\n",
        "dnn_feature_columns = fixlen_feature_columns\n",
        "feature_names = get_feature_names(linear_feature_columns + dnn_feature_columns)"
      ],
      "execution_count": 0,
      "outputs": []
    },
    {
      "cell_type": "code",
      "metadata": {
        "id": "wu-WyOgLTWLX",
        "colab_type": "code",
        "colab": {}
      },
      "source": [
        "# 将数据集切分成训练集和测试集\n",
        "train, test = train_test_split(data_whole, test_size=0.2)\n",
        "train_model_input = {name:train[name].values for name in feature_names}\n",
        "test_model_input = {name:test[name].values for name in feature_names}"
      ],
      "execution_count": 0,
      "outputs": []
    },
    {
      "cell_type": "code",
      "metadata": {
        "id": "-Rv2YDj_Tdkh",
        "colab_type": "code",
        "colab": {
          "base_uri": "https://localhost:8080/",
          "height": 1000
        },
        "outputId": "44c0c85c-43b5-402c-b885-28363ff72460"
      },
      "source": [
        "# 使用WDL进行训练\n",
        "model = WDL(linear_feature_columns, dnn_feature_columns, task='regression')\n",
        "model.compile(\"adam\", \"mse\", metrics=['mse'], )\n",
        "history = model.fit(train_model_input, train[target].values, batch_size=2560, epochs=100, verbose=True, validation_split=0.2 )"
      ],
      "execution_count": 17,
      "outputs": [
        {
          "output_type": "stream",
          "text": [
            "Train on 640133 samples, validate on 160034 samples\n",
            "Epoch 1/100\n",
            "640133/640133 [==============================] - 5s 7us/sample - loss: 2.2431 - mean_squared_error: 2.2427 - val_loss: 0.8335 - val_mean_squared_error: 0.8328\n",
            "Epoch 2/100\n",
            "640133/640133 [==============================] - 4s 7us/sample - loss: 0.8173 - mean_squared_error: 0.8165 - val_loss: 0.8118 - val_mean_squared_error: 0.8109\n",
            "Epoch 3/100\n",
            "640133/640133 [==============================] - 4s 7us/sample - loss: 0.7968 - mean_squared_error: 0.7959 - val_loss: 0.8049 - val_mean_squared_error: 0.8039\n",
            "Epoch 4/100\n",
            "640133/640133 [==============================] - 4s 7us/sample - loss: 0.7846 - mean_squared_error: 0.7835 - val_loss: 0.7963 - val_mean_squared_error: 0.7952\n",
            "Epoch 5/100\n",
            "640133/640133 [==============================] - 4s 7us/sample - loss: 0.7739 - mean_squared_error: 0.7726 - val_loss: 0.7911 - val_mean_squared_error: 0.7898\n",
            "Epoch 6/100\n",
            "640133/640133 [==============================] - 4s 7us/sample - loss: 0.7631 - mean_squared_error: 0.7617 - val_loss: 0.7834 - val_mean_squared_error: 0.7820\n",
            "Epoch 7/100\n",
            "640133/640133 [==============================] - 4s 7us/sample - loss: 0.7528 - mean_squared_error: 0.7513 - val_loss: 0.7786 - val_mean_squared_error: 0.7770\n",
            "Epoch 8/100\n",
            "640133/640133 [==============================] - 4s 7us/sample - loss: 0.7443 - mean_squared_error: 0.7427 - val_loss: 0.7758 - val_mean_squared_error: 0.7741\n",
            "Epoch 9/100\n",
            "640133/640133 [==============================] - 4s 7us/sample - loss: 0.7373 - mean_squared_error: 0.7354 - val_loss: 0.7756 - val_mean_squared_error: 0.7737\n",
            "Epoch 10/100\n",
            "640133/640133 [==============================] - 4s 7us/sample - loss: 0.7319 - mean_squared_error: 0.7299 - val_loss: 0.7774 - val_mean_squared_error: 0.7754\n",
            "Epoch 11/100\n",
            "640133/640133 [==============================] - 4s 7us/sample - loss: 0.7274 - mean_squared_error: 0.7253 - val_loss: 0.7779 - val_mean_squared_error: 0.7757\n",
            "Epoch 12/100\n",
            "640133/640133 [==============================] - 4s 7us/sample - loss: 0.7234 - mean_squared_error: 0.7211 - val_loss: 0.7780 - val_mean_squared_error: 0.7756\n",
            "Epoch 13/100\n",
            "640133/640133 [==============================] - 4s 7us/sample - loss: 0.7194 - mean_squared_error: 0.7169 - val_loss: 0.7781 - val_mean_squared_error: 0.7756\n",
            "Epoch 14/100\n",
            "640133/640133 [==============================] - 4s 7us/sample - loss: 0.7161 - mean_squared_error: 0.7136 - val_loss: 0.7812 - val_mean_squared_error: 0.7785\n",
            "Epoch 15/100\n",
            "640133/640133 [==============================] - 4s 7us/sample - loss: 0.7118 - mean_squared_error: 0.7091 - val_loss: 0.7821 - val_mean_squared_error: 0.7793\n",
            "Epoch 16/100\n",
            "640133/640133 [==============================] - 4s 7us/sample - loss: 0.7075 - mean_squared_error: 0.7046 - val_loss: 0.7795 - val_mean_squared_error: 0.7766\n",
            "Epoch 17/100\n",
            "640133/640133 [==============================] - 4s 7us/sample - loss: 0.7034 - mean_squared_error: 0.7003 - val_loss: 0.7791 - val_mean_squared_error: 0.7760\n",
            "Epoch 18/100\n",
            "640133/640133 [==============================] - 4s 7us/sample - loss: 0.6998 - mean_squared_error: 0.6966 - val_loss: 0.7903 - val_mean_squared_error: 0.7870\n",
            "Epoch 19/100\n",
            "640133/640133 [==============================] - 4s 7us/sample - loss: 0.6961 - mean_squared_error: 0.6928 - val_loss: 0.7796 - val_mean_squared_error: 0.7762\n",
            "Epoch 20/100\n",
            "640133/640133 [==============================] - 4s 7us/sample - loss: 0.6926 - mean_squared_error: 0.6891 - val_loss: 0.7833 - val_mean_squared_error: 0.7797\n",
            "Epoch 21/100\n",
            "640133/640133 [==============================] - 4s 7us/sample - loss: 0.6895 - mean_squared_error: 0.6859 - val_loss: 0.7823 - val_mean_squared_error: 0.7786\n",
            "Epoch 22/100\n",
            "640133/640133 [==============================] - 4s 7us/sample - loss: 0.6867 - mean_squared_error: 0.6829 - val_loss: 0.7830 - val_mean_squared_error: 0.7791\n",
            "Epoch 23/100\n",
            "640133/640133 [==============================] - 5s 7us/sample - loss: 0.6842 - mean_squared_error: 0.6803 - val_loss: 0.7987 - val_mean_squared_error: 0.7947\n",
            "Epoch 24/100\n",
            "640133/640133 [==============================] - 4s 7us/sample - loss: 0.6825 - mean_squared_error: 0.6784 - val_loss: 0.7812 - val_mean_squared_error: 0.7770\n",
            "Epoch 25/100\n",
            "640133/640133 [==============================] - 4s 7us/sample - loss: 0.6793 - mean_squared_error: 0.6750 - val_loss: 0.7842 - val_mean_squared_error: 0.7799\n",
            "Epoch 26/100\n",
            "640133/640133 [==============================] - 4s 7us/sample - loss: 0.6777 - mean_squared_error: 0.6733 - val_loss: 0.7827 - val_mean_squared_error: 0.7783\n",
            "Epoch 27/100\n",
            "640133/640133 [==============================] - 4s 7us/sample - loss: 0.6757 - mean_squared_error: 0.6712 - val_loss: 0.7880 - val_mean_squared_error: 0.7834\n",
            "Epoch 28/100\n",
            "640133/640133 [==============================] - 4s 7us/sample - loss: 0.6741 - mean_squared_error: 0.6694 - val_loss: 0.7877 - val_mean_squared_error: 0.7830\n",
            "Epoch 29/100\n",
            "640133/640133 [==============================] - 4s 7us/sample - loss: 0.6726 - mean_squared_error: 0.6678 - val_loss: 0.7869 - val_mean_squared_error: 0.7820\n",
            "Epoch 30/100\n",
            "640133/640133 [==============================] - 4s 7us/sample - loss: 0.6713 - mean_squared_error: 0.6663 - val_loss: 0.7872 - val_mean_squared_error: 0.7822\n",
            "Epoch 31/100\n",
            "640133/640133 [==============================] - 4s 7us/sample - loss: 0.6697 - mean_squared_error: 0.6647 - val_loss: 0.7989 - val_mean_squared_error: 0.7938\n",
            "Epoch 32/100\n",
            "640133/640133 [==============================] - 4s 7us/sample - loss: 0.6685 - mean_squared_error: 0.6633 - val_loss: 0.7895 - val_mean_squared_error: 0.7842\n",
            "Epoch 33/100\n",
            "640133/640133 [==============================] - 4s 7us/sample - loss: 0.6668 - mean_squared_error: 0.6614 - val_loss: 0.7881 - val_mean_squared_error: 0.7827\n",
            "Epoch 34/100\n",
            "640133/640133 [==============================] - 4s 7us/sample - loss: 0.6659 - mean_squared_error: 0.6604 - val_loss: 0.7914 - val_mean_squared_error: 0.7859\n",
            "Epoch 35/100\n",
            "640133/640133 [==============================] - 4s 7us/sample - loss: 0.6647 - mean_squared_error: 0.6591 - val_loss: 0.7902 - val_mean_squared_error: 0.7845\n",
            "Epoch 36/100\n",
            "640133/640133 [==============================] - 4s 7us/sample - loss: 0.6636 - mean_squared_error: 0.6579 - val_loss: 0.7924 - val_mean_squared_error: 0.7866\n",
            "Epoch 37/100\n",
            "640133/640133 [==============================] - 4s 7us/sample - loss: 0.6630 - mean_squared_error: 0.6571 - val_loss: 0.7938 - val_mean_squared_error: 0.7878\n",
            "Epoch 38/100\n",
            "640133/640133 [==============================] - 4s 7us/sample - loss: 0.6616 - mean_squared_error: 0.6555 - val_loss: 0.7965 - val_mean_squared_error: 0.7904\n",
            "Epoch 39/100\n",
            "640133/640133 [==============================] - 4s 7us/sample - loss: 0.6605 - mean_squared_error: 0.6543 - val_loss: 0.7985 - val_mean_squared_error: 0.7922\n",
            "Epoch 40/100\n",
            "640133/640133 [==============================] - 4s 7us/sample - loss: 0.6595 - mean_squared_error: 0.6532 - val_loss: 0.7963 - val_mean_squared_error: 0.7900\n",
            "Epoch 41/100\n",
            "640133/640133 [==============================] - 4s 7us/sample - loss: 0.6585 - mean_squared_error: 0.6521 - val_loss: 0.7980 - val_mean_squared_error: 0.7916\n",
            "Epoch 42/100\n",
            "640133/640133 [==============================] - 4s 7us/sample - loss: 0.6578 - mean_squared_error: 0.6512 - val_loss: 0.7993 - val_mean_squared_error: 0.7927\n",
            "Epoch 43/100\n",
            "640133/640133 [==============================] - 4s 7us/sample - loss: 0.6575 - mean_squared_error: 0.6508 - val_loss: 0.8025 - val_mean_squared_error: 0.7958\n",
            "Epoch 44/100\n",
            "640133/640133 [==============================] - 4s 7us/sample - loss: 0.6560 - mean_squared_error: 0.6492 - val_loss: 0.7991 - val_mean_squared_error: 0.7923\n",
            "Epoch 45/100\n",
            "640133/640133 [==============================] - 4s 7us/sample - loss: 0.6552 - mean_squared_error: 0.6483 - val_loss: 0.8003 - val_mean_squared_error: 0.7934\n",
            "Epoch 46/100\n",
            "640133/640133 [==============================] - 4s 7us/sample - loss: 0.6541 - mean_squared_error: 0.6471 - val_loss: 0.8120 - val_mean_squared_error: 0.8049\n",
            "Epoch 47/100\n",
            "640133/640133 [==============================] - 4s 7us/sample - loss: 0.6533 - mean_squared_error: 0.6462 - val_loss: 0.7963 - val_mean_squared_error: 0.7891\n",
            "Epoch 48/100\n",
            "640133/640133 [==============================] - 4s 7us/sample - loss: 0.6526 - mean_squared_error: 0.6453 - val_loss: 0.8027 - val_mean_squared_error: 0.7954\n",
            "Epoch 49/100\n",
            "640133/640133 [==============================] - 4s 7us/sample - loss: 0.6519 - mean_squared_error: 0.6445 - val_loss: 0.8018 - val_mean_squared_error: 0.7944\n",
            "Epoch 50/100\n",
            "640133/640133 [==============================] - 4s 7us/sample - loss: 0.6509 - mean_squared_error: 0.6434 - val_loss: 0.8053 - val_mean_squared_error: 0.7978\n",
            "Epoch 51/100\n",
            "640133/640133 [==============================] - 4s 7us/sample - loss: 0.6503 - mean_squared_error: 0.6427 - val_loss: 0.8141 - val_mean_squared_error: 0.8065\n",
            "Epoch 52/100\n",
            "640133/640133 [==============================] - 4s 7us/sample - loss: 0.6498 - mean_squared_error: 0.6421 - val_loss: 0.8152 - val_mean_squared_error: 0.8075\n",
            "Epoch 53/100\n",
            "640133/640133 [==============================] - 4s 7us/sample - loss: 0.6493 - mean_squared_error: 0.6415 - val_loss: 0.8125 - val_mean_squared_error: 0.8046\n",
            "Epoch 54/100\n",
            "640133/640133 [==============================] - 4s 7us/sample - loss: 0.6484 - mean_squared_error: 0.6405 - val_loss: 0.8080 - val_mean_squared_error: 0.8000\n",
            "Epoch 55/100\n",
            "640133/640133 [==============================] - 4s 7us/sample - loss: 0.6476 - mean_squared_error: 0.6396 - val_loss: 0.8030 - val_mean_squared_error: 0.7949\n",
            "Epoch 56/100\n",
            "640133/640133 [==============================] - 4s 7us/sample - loss: 0.6474 - mean_squared_error: 0.6393 - val_loss: 0.8088 - val_mean_squared_error: 0.8006\n",
            "Epoch 57/100\n",
            "640133/640133 [==============================] - 4s 7us/sample - loss: 0.6462 - mean_squared_error: 0.6379 - val_loss: 0.8119 - val_mean_squared_error: 0.8036\n",
            "Epoch 58/100\n",
            "640133/640133 [==============================] - 4s 7us/sample - loss: 0.6464 - mean_squared_error: 0.6380 - val_loss: 0.8196 - val_mean_squared_error: 0.8112\n",
            "Epoch 59/100\n",
            "640133/640133 [==============================] - 4s 7us/sample - loss: 0.6455 - mean_squared_error: 0.6371 - val_loss: 0.8176 - val_mean_squared_error: 0.8091\n",
            "Epoch 60/100\n",
            "640133/640133 [==============================] - 4s 7us/sample - loss: 0.6449 - mean_squared_error: 0.6363 - val_loss: 0.8189 - val_mean_squared_error: 0.8103\n",
            "Epoch 61/100\n",
            "640133/640133 [==============================] - 4s 7us/sample - loss: 0.6444 - mean_squared_error: 0.6358 - val_loss: 0.8129 - val_mean_squared_error: 0.8042\n",
            "Epoch 62/100\n",
            "640133/640133 [==============================] - 4s 7us/sample - loss: 0.6439 - mean_squared_error: 0.6352 - val_loss: 0.8222 - val_mean_squared_error: 0.8135\n",
            "Epoch 63/100\n",
            "640133/640133 [==============================] - 4s 7us/sample - loss: 0.6437 - mean_squared_error: 0.6349 - val_loss: 0.8129 - val_mean_squared_error: 0.8040\n",
            "Epoch 64/100\n",
            "640133/640133 [==============================] - 4s 7us/sample - loss: 0.6426 - mean_squared_error: 0.6336 - val_loss: 0.8198 - val_mean_squared_error: 0.8108\n",
            "Epoch 65/100\n",
            "640133/640133 [==============================] - 4s 7us/sample - loss: 0.6420 - mean_squared_error: 0.6330 - val_loss: 0.8203 - val_mean_squared_error: 0.8113\n",
            "Epoch 66/100\n",
            "640133/640133 [==============================] - 4s 7us/sample - loss: 0.6417 - mean_squared_error: 0.6326 - val_loss: 0.8181 - val_mean_squared_error: 0.8090\n",
            "Epoch 67/100\n",
            "640133/640133 [==============================] - 4s 7us/sample - loss: 0.6409 - mean_squared_error: 0.6317 - val_loss: 0.8221 - val_mean_squared_error: 0.8129\n",
            "Epoch 68/100\n",
            "640133/640133 [==============================] - 4s 7us/sample - loss: 0.6405 - mean_squared_error: 0.6312 - val_loss: 0.8188 - val_mean_squared_error: 0.8095\n",
            "Epoch 69/100\n",
            "640133/640133 [==============================] - 4s 7us/sample - loss: 0.6397 - mean_squared_error: 0.6303 - val_loss: 0.8246 - val_mean_squared_error: 0.8152\n",
            "Epoch 70/100\n",
            "640133/640133 [==============================] - 4s 7us/sample - loss: 0.6397 - mean_squared_error: 0.6302 - val_loss: 0.8211 - val_mean_squared_error: 0.8116\n",
            "Epoch 71/100\n",
            "640133/640133 [==============================] - 4s 7us/sample - loss: 0.6395 - mean_squared_error: 0.6300 - val_loss: 0.8187 - val_mean_squared_error: 0.8092\n",
            "Epoch 72/100\n",
            "640133/640133 [==============================] - 4s 7us/sample - loss: 0.6386 - mean_squared_error: 0.6290 - val_loss: 0.8222 - val_mean_squared_error: 0.8125\n",
            "Epoch 73/100\n",
            "640133/640133 [==============================] - 4s 7us/sample - loss: 0.6384 - mean_squared_error: 0.6287 - val_loss: 0.8188 - val_mean_squared_error: 0.8090\n",
            "Epoch 74/100\n",
            "640133/640133 [==============================] - 4s 7us/sample - loss: 0.6376 - mean_squared_error: 0.6278 - val_loss: 0.8256 - val_mean_squared_error: 0.8157\n",
            "Epoch 75/100\n",
            "640133/640133 [==============================] - 4s 7us/sample - loss: 0.6376 - mean_squared_error: 0.6277 - val_loss: 0.8382 - val_mean_squared_error: 0.8283\n",
            "Epoch 76/100\n",
            "640133/640133 [==============================] - 4s 7us/sample - loss: 0.6381 - mean_squared_error: 0.6281 - val_loss: 0.8209 - val_mean_squared_error: 0.8109\n",
            "Epoch 77/100\n",
            "640133/640133 [==============================] - 4s 7us/sample - loss: 0.6366 - mean_squared_error: 0.6266 - val_loss: 0.8297 - val_mean_squared_error: 0.8196\n",
            "Epoch 78/100\n",
            "640133/640133 [==============================] - 4s 7us/sample - loss: 0.6360 - mean_squared_error: 0.6258 - val_loss: 0.8293 - val_mean_squared_error: 0.8191\n",
            "Epoch 79/100\n",
            "640133/640133 [==============================] - 4s 7us/sample - loss: 0.6360 - mean_squared_error: 0.6258 - val_loss: 0.8367 - val_mean_squared_error: 0.8265\n",
            "Epoch 80/100\n",
            "640133/640133 [==============================] - 4s 7us/sample - loss: 0.6359 - mean_squared_error: 0.6256 - val_loss: 0.8260 - val_mean_squared_error: 0.8157\n",
            "Epoch 81/100\n",
            "640133/640133 [==============================] - 4s 7us/sample - loss: 0.6353 - mean_squared_error: 0.6250 - val_loss: 0.8276 - val_mean_squared_error: 0.8172\n",
            "Epoch 82/100\n",
            "640133/640133 [==============================] - 4s 7us/sample - loss: 0.6343 - mean_squared_error: 0.6238 - val_loss: 0.8297 - val_mean_squared_error: 0.8193\n",
            "Epoch 83/100\n",
            "640133/640133 [==============================] - 4s 7us/sample - loss: 0.6345 - mean_squared_error: 0.6240 - val_loss: 0.8269 - val_mean_squared_error: 0.8164\n",
            "Epoch 84/100\n",
            "640133/640133 [==============================] - 4s 7us/sample - loss: 0.6333 - mean_squared_error: 0.6227 - val_loss: 0.8263 - val_mean_squared_error: 0.8157\n",
            "Epoch 85/100\n",
            "640133/640133 [==============================] - 4s 7us/sample - loss: 0.6335 - mean_squared_error: 0.6228 - val_loss: 0.8339 - val_mean_squared_error: 0.8232\n",
            "Epoch 86/100\n",
            "640133/640133 [==============================] - 4s 7us/sample - loss: 0.6329 - mean_squared_error: 0.6222 - val_loss: 0.8334 - val_mean_squared_error: 0.8227\n",
            "Epoch 87/100\n",
            "640133/640133 [==============================] - 4s 7us/sample - loss: 0.6329 - mean_squared_error: 0.6222 - val_loss: 0.8265 - val_mean_squared_error: 0.8157\n",
            "Epoch 88/100\n",
            "640133/640133 [==============================] - 4s 7us/sample - loss: 0.6323 - mean_squared_error: 0.6214 - val_loss: 0.8365 - val_mean_squared_error: 0.8256\n",
            "Epoch 89/100\n",
            "640133/640133 [==============================] - 4s 7us/sample - loss: 0.6320 - mean_squared_error: 0.6211 - val_loss: 0.8404 - val_mean_squared_error: 0.8294\n",
            "Epoch 90/100\n",
            "640133/640133 [==============================] - 4s 7us/sample - loss: 0.6317 - mean_squared_error: 0.6207 - val_loss: 0.8314 - val_mean_squared_error: 0.8204\n",
            "Epoch 91/100\n",
            "640133/640133 [==============================] - 4s 7us/sample - loss: 0.6313 - mean_squared_error: 0.6202 - val_loss: 0.8426 - val_mean_squared_error: 0.8315\n",
            "Epoch 92/100\n",
            "640133/640133 [==============================] - 4s 7us/sample - loss: 0.6310 - mean_squared_error: 0.6199 - val_loss: 0.8368 - val_mean_squared_error: 0.8256\n",
            "Epoch 93/100\n",
            "640133/640133 [==============================] - 4s 7us/sample - loss: 0.6306 - mean_squared_error: 0.6195 - val_loss: 0.8349 - val_mean_squared_error: 0.8237\n",
            "Epoch 94/100\n",
            "640133/640133 [==============================] - 4s 7us/sample - loss: 0.6301 - mean_squared_error: 0.6188 - val_loss: 0.8479 - val_mean_squared_error: 0.8366\n",
            "Epoch 95/100\n",
            "640133/640133 [==============================] - 4s 7us/sample - loss: 0.6301 - mean_squared_error: 0.6188 - val_loss: 0.8359 - val_mean_squared_error: 0.8246\n",
            "Epoch 96/100\n",
            "640133/640133 [==============================] - 4s 7us/sample - loss: 0.6296 - mean_squared_error: 0.6182 - val_loss: 0.8336 - val_mean_squared_error: 0.8222\n",
            "Epoch 97/100\n",
            "640133/640133 [==============================] - 4s 7us/sample - loss: 0.6291 - mean_squared_error: 0.6177 - val_loss: 0.8378 - val_mean_squared_error: 0.8264\n",
            "Epoch 98/100\n",
            "640133/640133 [==============================] - 4s 7us/sample - loss: 0.6290 - mean_squared_error: 0.6175 - val_loss: 0.8395 - val_mean_squared_error: 0.8280\n",
            "Epoch 99/100\n",
            "640133/640133 [==============================] - 4s 7us/sample - loss: 0.6285 - mean_squared_error: 0.6169 - val_loss: 0.8396 - val_mean_squared_error: 0.8281\n",
            "Epoch 100/100\n",
            "640133/640133 [==============================] - 4s 7us/sample - loss: 0.6284 - mean_squared_error: 0.6168 - val_loss: 0.8341 - val_mean_squared_error: 0.8224\n"
          ],
          "name": "stdout"
        }
      ]
    },
    {
      "cell_type": "code",
      "metadata": {
        "id": "8EXV7kpuUuPU",
        "colab_type": "code",
        "colab": {}
      },
      "source": [
        "# 使用WDL进行预测\n",
        "pred_ans = model.predict(test_model_input, batch_size=256)"
      ],
      "execution_count": 0,
      "outputs": []
    },
    {
      "cell_type": "code",
      "metadata": {
        "id": "0ZvDv8qpU35o",
        "colab_type": "code",
        "colab": {}
      },
      "source": [
        "# 输出RMSE或MSE\n",
        "mse = round(mean_squared_error(test[target].values, pred_ans), 4)"
      ],
      "execution_count": 0,
      "outputs": []
    },
    {
      "cell_type": "code",
      "metadata": {
        "id": "6qg5Cxe9U56Q",
        "colab_type": "code",
        "colab": {}
      },
      "source": [
        "rmse = mse ** 0.5"
      ],
      "execution_count": 0,
      "outputs": []
    },
    {
      "cell_type": "code",
      "metadata": {
        "id": "yL0wt3zLU8B6",
        "colab_type": "code",
        "colab": {
          "base_uri": "https://localhost:8080/",
          "height": 34
        },
        "outputId": "74461e18-9afa-4241-edc9-e3f7349fa5c8"
      },
      "source": [
        "print(\"test RMSE\", rmse)"
      ],
      "execution_count": 21,
      "outputs": [
        {
          "output_type": "stream",
          "text": [
            "test RMSE 0.9078546139112804\n"
          ],
          "name": "stdout"
        }
      ]
    },
    {
      "cell_type": "code",
      "metadata": {
        "id": "QU9prPMxU-M4",
        "colab_type": "code",
        "colab": {
          "base_uri": "https://localhost:8080/",
          "height": 136
        },
        "outputId": "7e3ec67e-893c-4ea0-ca19-f2911bf35a8c"
      },
      "source": [
        "print(pred_ans)"
      ],
      "execution_count": 22,
      "outputs": [
        {
          "output_type": "stream",
          "text": [
            "[[2.7016916]\n",
            " [3.5201604]\n",
            " [3.245679 ]\n",
            " ...\n",
            " [3.70538  ]\n",
            " [3.9519126]\n",
            " [4.7778325]]\n"
          ],
          "name": "stdout"
        }
      ]
    },
    {
      "cell_type": "code",
      "metadata": {
        "id": "RjJ0aA0VVAGi",
        "colab_type": "code",
        "colab": {}
      },
      "source": [
        ""
      ],
      "execution_count": 0,
      "outputs": []
    }
  ]
}