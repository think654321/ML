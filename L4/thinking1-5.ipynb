{
 "cells": [
  {
   "cell_type": "markdown",
   "metadata": {},
   "source": [
    "# 1.ALS都有哪些应用场景"
   ]
  },
  {
   "cell_type": "markdown",
   "metadata": {},
   "source": [
    "### 当损失函数是一个非凸函数的时候，使用梯度下降法进行优化会比较困难，这时候就可以使用交替最小二乘ALS算法，固定一个变量，优化另一个，如此往复。可以用在矩阵分解（固定用户矩阵优化产品矩阵，固定产品矩阵优化用户矩阵），baseline算法中（固定ui优化ri,固定ri优化ui）。"
   ]
  },
  {
   "cell_type": "markdown",
   "metadata": {},
   "source": [
    "# 2.ALS进行矩阵分解的时候，为什么可以并行化处理"
   ]
  },
  {
   "cell_type": "markdown",
   "metadata": {},
   "source": [
    "### 固定X优化Y的时候，每个Y只依赖自己，不依赖其他特征向量，所以可以把不同的y的更新放到不同的服务器上，同理X也如此。"
   ]
  },
  {
   "cell_type": "markdown",
   "metadata": {},
   "source": [
    "# 3.梯度下降法中的批量梯度下降（BGD），随机梯度下降（SGD），和小批量梯度下降有什么区别（MBGD）"
   ]
  },
  {
   "cell_type": "markdown",
   "metadata": {},
   "source": [
    "### 批量梯度下降是把所有样本都考虑进去来进行优化的，结果更为精准，但是计算量大，速度慢；随机梯度下降是每次只随机选取一个样本进行优化，最终的结果会在正确结果的附近，计算速度快；小批量梯度下降介于两者之间，每次选取一小部分来进行优化，结果较为精准，速度也比BGD要快。"
   ]
  },
  {
   "cell_type": "markdown",
   "metadata": {},
   "source": [
    "# 4.对数据进行可视化EDA都有哪些方式，你都是用过哪些工具？"
   ]
  },
  {
   "cell_type": "markdown",
   "metadata": {},
   "source": [
    "### 用matplotlib和seaborn进行可视化分析，包括折线图，相关系数的火焰图，饼状图，柱状图，箱形图，两两特征之间的关系走势图等等"
   ]
  },
  {
   "cell_type": "code",
   "execution_count": null,
   "metadata": {},
   "outputs": [],
   "source": []
  }
 ],
 "metadata": {
  "kernelspec": {
   "display_name": "Python 3",
   "language": "python",
   "name": "python3"
  },
  "language_info": {
   "codemirror_mode": {
    "name": "ipython",
    "version": 3
   },
   "file_extension": ".py",
   "mimetype": "text/x-python",
   "name": "python",
   "nbconvert_exporter": "python",
   "pygments_lexer": "ipython3",
   "version": "3.7.3"
  }
 },
 "nbformat": 4,
 "nbformat_minor": 2
}
