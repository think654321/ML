{
 "cells": [
  {
   "cell_type": "markdown",
   "metadata": {},
   "source": [
    "# XGBoost, LightGBM, CatBoost三者之间区别"
   ]
  },
  {
   "cell_type": "markdown",
   "metadata": {},
   "source": [
    "### 1.XGBoost不支持类别特征，需要对它进行OneHot编码，而LightGBM和CatBoost支持分类特征，在训练的时候可以直接指定那些类别特征的列。\n",
    "### 2.XGBoost和LightGBM都可以自动处理特征缺失值。\n",
    "### 3.LightGBM相对于XGBoost来说训练速度更快，占用内存更小。\n",
    "### 4.LightGBM使用直方图算法减少候选分裂点数量，而XGBoost需要对候选分裂点挨个计算；\n",
    "   ###        Goss算法，基于梯度的单边采样算法，可以减少样本的数量，只保留梯度绝对值较大的样本，留下更有效的样本；\n",
    "   ###        EFB算法，互斥特征捆绑算法，可以互斥的特征整合为一个特征，减少数据的稀疏性。\n",
    "### 5.CatBoost适合处理分类特征比较多的数据，首先对分类特征做统计，计算某个分类特征出现的频率，然后加上超参数，生成新的数值型特征，同时使用组合类别特征，丰富了特征维度。"
   ]
  },
  {
   "cell_type": "markdown",
   "metadata": {},
   "source": [
    "# 你认为，NGBoost对之后的算法会有怎样的影响"
   ]
  },
  {
   "cell_type": "markdown",
   "metadata": {},
   "source": [
    "### 需要每次计算差距较小，计算较稳定的场合，NGBoost会表现的更好；但是由于计算速度相对较慢，可能更多的应用在数据量不是很大的环境下。"
   ]
  },
  {
   "cell_type": "code",
   "execution_count": null,
   "metadata": {},
   "outputs": [],
   "source": []
  },
  {
   "cell_type": "code",
   "execution_count": null,
   "metadata": {},
   "outputs": [],
   "source": []
  }
 ],
 "metadata": {
  "kernelspec": {
   "display_name": "Python 3",
   "language": "python",
   "name": "python3"
  },
  "language_info": {
   "codemirror_mode": {
    "name": "ipython",
    "version": 3
   },
   "file_extension": ".py",
   "mimetype": "text/x-python",
   "name": "python",
   "nbconvert_exporter": "python",
   "pygments_lexer": "ipython3",
   "version": "3.7.3"
  }
 },
 "nbformat": 4,
 "nbformat_minor": 2
}
