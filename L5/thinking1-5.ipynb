{
 "cells": [
  {
   "cell_type": "markdown",
   "metadata": {},
   "source": [
    "## 1.奇异值分解SVD的原理是怎样的，都有哪些应用场景"
   ]
  },
  {
   "cell_type": "markdown",
   "metadata": {},
   "source": [
    "### 奇异值分解可以将一个比较复杂的矩阵用更小更简单的几个子矩阵的相乘来表示。特征值分解可以得到特征值与特征向量，特征值表示的是这个特征的重要程度，而特征向量表示这个特征是什么，可以将每一个特征向量理解为一个线性的子空间。然而特征值分解只能是方阵。而当这个矩阵不是方阵的时候，就需要另一种分解矩阵的方法，就是奇异值分解。奇异值和特征值类似，都是按重要程度从大到小排列，而且少部分的奇异值的和就基本上沾满了全部的奇异值之和，所以可以用前r大的奇异值来近似描述矩阵。\n",
    "### 应用：图片压缩；主成分分析；推荐系统。"
   ]
  },
  {
   "cell_type": "markdown",
   "metadata": {},
   "source": [
    "## 2.funkSVD, BiasSVD，SVD++算法之间的区别是怎样的"
   ]
  },
  {
   "cell_type": "markdown",
   "metadata": {},
   "source": [
    "### funcSVD是在SVD的基础上避开了稀疏问题，只用两个矩阵进行相乘，并且只关注那些原来矩阵中有值的位置来进行对比，不需要对所有元素进行对比，与此同时为了防止过拟合，添加了正则项。\n",
    "### BiasSVD考虑到了用户和商品本身的偏好特性，比如某些用户习惯打高分，某些商品本身是精品，容易得高分；将与个性化无关的部分设置为了偏好部分。\n",
    "### SVD++在BiasSVD的基础上进行了改进，考虑用户的隐式反馈。"
   ]
  },
  {
   "cell_type": "markdown",
   "metadata": {},
   "source": [
    "## 3.矩阵分解算法在推荐系统中有哪些应用场景，存在哪些不足"
   ]
  },
  {
   "cell_type": "markdown",
   "metadata": {},
   "source": [
    "### 矩阵分解算法可以用在评分预测上，预测用户对某个商品所打的分数，从而按照分数的高低来给用户推荐商品。存在的不足就是没有充分运用到其他的特征信息。"
   ]
  },
  {
   "cell_type": "markdown",
   "metadata": {},
   "source": [
    "## 4.item流行度在推荐系统中有怎样的应用"
   ]
  },
  {
   "cell_type": "markdown",
   "metadata": {},
   "source": [
    "### 当用户行为信息不足的时候，需要采用非个性化推荐，这时候为了能让内容对于用户有普适性，需要对用户推荐那些比较流行的内容；\n",
    "### 当用户行为信息进行一定的积累过后，想提高对用户的吸引力的话，就需要发掘一些长尾商品，找到更符合用户个性话品味的item。而这时候流行度高的商品不一定是用户所喜欢的，可能只是人群广泛关注的，这个时候就需要对流行度高的商品进行一定程度的“惩罚”来降低其推荐的概率。即我们在进行推荐的时候可以推荐相似度高，但是不流行的item。进行TOPN推荐的时候，既要考虑反馈次数，也要考虑流行度降权的影响。\n",
    "### 除此之外，还需要考虑不同的业务场景，就像电商网站打造爆款，交友网站让更多的人进行互动等等。"
   ]
  },
  {
   "cell_type": "markdown",
   "metadata": {},
   "source": [
    "## 5.推荐系统的召回阶段都有哪些策略"
   ]
  },
  {
   "cell_type": "markdown",
   "metadata": {},
   "source": [
    "### 以内容为索引召回，包括地域，标签，发布时间，当日热点相关，模型离线大分最高，点击最高等；\n",
    "### 以用户为索引召回，包括用户近期喜欢的新闻，推荐内容，话题相关的新闻；近期喜欢的新闻，推荐文本向量相似的新闻；推荐喜欢这边文章的其他用户所喜欢的新闻；推荐用户关注的大v话题等；\n",
    "### 以设备为索引召回，根据用户地点对应群体，推荐点击率高的内容；除此之外还有网络，机器设备等；"
   ]
  },
  {
   "cell_type": "code",
   "execution_count": null,
   "metadata": {},
   "outputs": [],
   "source": []
  }
 ],
 "metadata": {
  "kernelspec": {
   "display_name": "Python 3",
   "language": "python",
   "name": "python3"
  },
  "language_info": {
   "codemirror_mode": {
    "name": "ipython",
    "version": 3
   },
   "file_extension": ".py",
   "mimetype": "text/x-python",
   "name": "python",
   "nbconvert_exporter": "python",
   "pygments_lexer": "ipython3",
   "version": "3.7.3"
  }
 },
 "nbformat": 4,
 "nbformat_minor": 2
}
