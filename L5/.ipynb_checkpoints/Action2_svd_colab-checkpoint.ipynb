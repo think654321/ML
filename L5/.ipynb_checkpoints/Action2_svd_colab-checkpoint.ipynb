{
 "cells": [
  {
   "cell_type": "code",
   "execution_count": 0,
   "metadata": {
    "colab": {},
    "colab_type": "code",
    "id": "eOz3tWPpe5KB"
   },
   "outputs": [],
   "source": [
    "from google.colab import drive"
   ]
  },
  {
   "cell_type": "code",
   "execution_count": 29,
   "metadata": {
    "colab": {
     "base_uri": "https://localhost:8080/",
     "height": 34
    },
    "colab_type": "code",
    "id": "hVKP7fAsfARL",
    "outputId": "66950592-4653-49f4-cff2-43ae4c69a615"
   },
   "outputs": [
    {
     "name": "stdout",
     "output_type": "stream",
     "text": [
      "Drive already mounted at /content/drive; to attempt to forcibly remount, call drive.mount(\"/content/drive\", force_remount=True).\n"
     ]
    }
   ],
   "source": [
    "drive.mount('/content/drive')"
   ]
  },
  {
   "cell_type": "code",
   "execution_count": 0,
   "metadata": {
    "colab": {},
    "colab_type": "code",
    "id": "pKWNF5SjfHBg"
   },
   "outputs": [],
   "source": [
    "import os\n",
    "os.chdir(\"/content/drive/My Drive/Colab Notebooks/L5\")"
   ]
  },
  {
   "cell_type": "code",
   "execution_count": 0,
   "metadata": {
    "colab": {},
    "colab_type": "code",
    "id": "119Kd_Vag6FJ"
   },
   "outputs": [],
   "source": [
    "# !pip install surprise"
   ]
  },
  {
   "cell_type": "code",
   "execution_count": 0,
   "metadata": {
    "colab": {},
    "colab_type": "code",
    "id": "kZOnhJExgw9M"
   },
   "outputs": [],
   "source": [
    "from surprise import SVD\n",
    "from surprise import SVDpp\n",
    "from surprise import Dataset\n",
    "from surprise import Reader\n",
    "from surprise import accuracy\n",
    "from surprise.model_selection import KFold\n",
    "import time"
   ]
  },
  {
   "cell_type": "code",
   "execution_count": 0,
   "metadata": {
    "colab": {},
    "colab_type": "code",
    "id": "lmxrDewPfk4E"
   },
   "outputs": [],
   "source": [
    "# 数据读取\n",
    "reader = Reader(line_format='user item rating timestamp', sep=',', skip_lines=1)\n",
    "data = Dataset.load_from_file('ratings.csv', reader=reader)\n",
    "train_set = data.build_full_trainset()"
   ]
  },
  {
   "cell_type": "code",
   "execution_count": 0,
   "metadata": {
    "colab": {},
    "colab_type": "code",
    "id": "CKldINM1iiJz"
   },
   "outputs": [],
   "source": [
    "# 使用funkSVD\n",
    "algo_funkSVD = SVD(n_factors=200, n_epochs = 10, biased=False)"
   ]
  },
  {
   "cell_type": "code",
   "execution_count": 35,
   "metadata": {
    "colab": {
     "base_uri": "https://localhost:8080/",
     "height": 68
    },
    "colab_type": "code",
    "id": "3eW9_q3ViqX5",
    "outputId": "4dbb560d-5fed-4009-ce6c-5b9681e81f8b"
   },
   "outputs": [
    {
     "name": "stdout",
     "output_type": "stream",
     "text": [
      "RMSE: 0.9158\n",
      "RMSE: 0.9153\n",
      "RMSE: 0.9157\n"
     ]
    }
   ],
   "source": [
    "# 定义K折交叉验证迭代器，K=3\n",
    "kf = KFold(n_splits=3)\n",
    "for trainset, testset in kf.split(data):\n",
    "    # 训练并预测\n",
    "    algo_funkSVD.fit(trainset)\n",
    "    predictions = algo_funkSVD.test(testset)\n",
    "    # 计算RMSE\n",
    "    accuracy.rmse(predictions, verbose=True)"
   ]
  },
  {
   "cell_type": "code",
   "execution_count": 36,
   "metadata": {
    "colab": {
     "base_uri": "https://localhost:8080/",
     "height": 51
    },
    "colab_type": "code",
    "id": "zVGZd4Bji4TK",
    "outputId": "3cdc0850-0f72-4d19-831c-30b8e0b3acf0"
   },
   "outputs": [
    {
     "name": "stdout",
     "output_type": "stream",
     "text": [
      "user: 196        item: 302        r_ui = 4.00   est = 3.95   {'was_impossible': False}\n",
      "FunkSVD: user: 196        item: 302        r_ui = 4.00   est = 3.95   {'was_impossible': False}\n"
     ]
    }
   ],
   "source": [
    "uid = str(196)\n",
    "iid = str(302)\n",
    "# 输出uid对iid的预测结果\n",
    "pred = algo_funkSVD.predict(uid, iid, r_ui=4, verbose=True)\n",
    "print(\"FunkSVD:\", pred)"
   ]
  },
  {
   "cell_type": "code",
   "execution_count": 37,
   "metadata": {
    "colab": {
     "base_uri": "https://localhost:8080/",
     "height": 102
    },
    "colab_type": "code",
    "id": "IivECOdAoSuC",
    "outputId": "619f1be2-7526-4596-fbab-9b73df52f0ab"
   },
   "outputs": [
    {
     "name": "stdout",
     "output_type": "stream",
     "text": [
      "RMSE: 0.8631\n",
      "RMSE: 0.8623\n",
      "RMSE: 0.8614\n",
      "user: 196        item: 302        r_ui = 4.00   est = 3.93   {'was_impossible': False}\n",
      "BiasSVD: user: 196        item: 302        r_ui = 4.00   est = 3.93   {'was_impossible': False}\n"
     ]
    }
   ],
   "source": [
    "algo_biasSVD = SVD(n_factors=100, n_epochs = 10, biased=True, reg_all=0.02, reg_bu=0.01, reg_bi=0.01)\n",
    "# 定义K折交叉验证迭代器，K=3\n",
    "kf = KFold(n_splits=3)\n",
    "for trainset, testset in kf.split(data):\n",
    "    # 训练并预测\n",
    "    algo_biasSVD.fit(trainset)\n",
    "    predictions = algo_biasSVD.test(testset)\n",
    "    # 计算RMSE\n",
    "    accuracy.rmse(predictions, verbose=True)\n",
    "uid = str(196)\n",
    "iid = str(302)\n",
    "# 输出uid对iid的预测结果\n",
    "pred = algo_biasSVD.predict(uid, iid, r_ui=4, verbose=True)\n",
    "print(\"BiasSVD:\", pred)"
   ]
  },
  {
   "cell_type": "code",
   "execution_count": 40,
   "metadata": {
    "colab": {
     "base_uri": "https://localhost:8080/",
     "height": 102
    },
    "colab_type": "code",
    "id": "6KDiElmQk69V",
    "outputId": "459b6eb0-27b0-4801-8654-0710eeff9312"
   },
   "outputs": [
    {
     "name": "stdout",
     "output_type": "stream",
     "text": [
      "RMSE: 0.8390\n",
      "RMSE: 0.8376\n",
      "RMSE: 0.8388\n",
      "user: 196        item: 302        r_ui = 4.00   est = 4.08   {'was_impossible': False}\n",
      "SVD++: user: 196        item: 302        r_ui = 4.00   est = 4.08   {'was_impossible': False}\n"
     ]
    }
   ],
   "source": [
    "algo_SVDAPP = SVDpp(n_factors=20, n_epochs = 10,reg_all=0.02, reg_bu=0.01, reg_bi=0.01)\n",
    "# 定义K折交叉验证迭代器，K=3\n",
    "kf = KFold(n_splits=3)\n",
    "for trainset, testset in kf.split(data):\n",
    "    # 训练并预测\n",
    "    algo_SVDAPP.fit(trainset)\n",
    "    predictions = algo_SVDAPP.test(testset)\n",
    "    # 计算RMSE\n",
    "    accuracy.rmse(predictions, verbose=True)\n",
    "uid = str(196)\n",
    "iid = str(302)\n",
    "# 输出uid对iid的预测结果\n",
    "pred = algo_SVDAPP.predict(uid, iid, r_ui=4, verbose=True)\n",
    "print(\"SVD++:\", pred)"
   ]
  },
  {
   "cell_type": "code",
   "execution_count": 0,
   "metadata": {
    "colab": {},
    "colab_type": "code",
    "id": "KNUplTYLq1GG"
   },
   "outputs": [],
   "source": []
  }
 ],
 "metadata": {
  "accelerator": "GPU",
  "colab": {
   "name": "Action2_svd.ipynb",
   "provenance": []
  },
  "kernelspec": {
   "display_name": "Python 3",
   "language": "python",
   "name": "python3"
  },
  "language_info": {
   "codemirror_mode": {
    "name": "ipython",
    "version": 3
   },
   "file_extension": ".py",
   "mimetype": "text/x-python",
   "name": "python",
   "nbconvert_exporter": "python",
   "pygments_lexer": "ipython3",
   "version": "3.7.3"
  }
 },
 "nbformat": 4,
 "nbformat_minor": 1
}
