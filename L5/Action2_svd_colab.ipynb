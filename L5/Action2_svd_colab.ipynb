{
  "nbformat": 4,
  "nbformat_minor": 0,
  "metadata": {
    "colab": {
      "name": "Action2_svd.ipynb",
      "provenance": []
    },
    "kernelspec": {
      "name": "python3",
      "display_name": "Python 3"
    },
    "accelerator": "GPU"
  },
  "cells": [
    {
      "cell_type": "code",
      "metadata": {
        "id": "eOz3tWPpe5KB",
        "colab_type": "code",
        "colab": {}
      },
      "source": [
        "from google.colab import drive"
      ],
      "execution_count": 0,
      "outputs": []
    },
    {
      "cell_type": "code",
      "metadata": {
        "id": "hVKP7fAsfARL",
        "colab_type": "code",
        "colab": {
          "base_uri": "https://localhost:8080/",
          "height": 34
        },
        "outputId": "66950592-4653-49f4-cff2-43ae4c69a615"
      },
      "source": [
        "drive.mount('/content/drive')"
      ],
      "execution_count": 29,
      "outputs": [
        {
          "output_type": "stream",
          "text": [
            "Drive already mounted at /content/drive; to attempt to forcibly remount, call drive.mount(\"/content/drive\", force_remount=True).\n"
          ],
          "name": "stdout"
        }
      ]
    },
    {
      "cell_type": "code",
      "metadata": {
        "id": "pKWNF5SjfHBg",
        "colab_type": "code",
        "colab": {}
      },
      "source": [
        "import os\n",
        "os.chdir(\"/content/drive/My Drive/Colab Notebooks/L5\")"
      ],
      "execution_count": 0,
      "outputs": []
    },
    {
      "cell_type": "code",
      "metadata": {
        "id": "119Kd_Vag6FJ",
        "colab_type": "code",
        "colab": {}
      },
      "source": [
        "# !pip install surprise"
      ],
      "execution_count": 0,
      "outputs": []
    },
    {
      "cell_type": "code",
      "metadata": {
        "id": "kZOnhJExgw9M",
        "colab_type": "code",
        "colab": {}
      },
      "source": [
        "from surprise import SVD\n",
        "from surprise import SVDpp\n",
        "from surprise import Dataset\n",
        "from surprise import Reader\n",
        "from surprise import accuracy\n",
        "from surprise.model_selection import KFold\n",
        "import time"
      ],
      "execution_count": 0,
      "outputs": []
    },
    {
      "cell_type": "code",
      "metadata": {
        "id": "lmxrDewPfk4E",
        "colab_type": "code",
        "colab": {}
      },
      "source": [
        "# 数据读取\n",
        "reader = Reader(line_format='user item rating timestamp', sep=',', skip_lines=1)\n",
        "data = Dataset.load_from_file('ratings.csv', reader=reader)\n",
        "train_set = data.build_full_trainset()"
      ],
      "execution_count": 0,
      "outputs": []
    },
    {
      "cell_type": "code",
      "metadata": {
        "id": "CKldINM1iiJz",
        "colab_type": "code",
        "colab": {}
      },
      "source": [
        "# 使用funkSVD\n",
        "algo_funkSVD = SVD(n_factors=200, n_epochs = 10, biased=False)"
      ],
      "execution_count": 0,
      "outputs": []
    },
    {
      "cell_type": "code",
      "metadata": {
        "id": "3eW9_q3ViqX5",
        "colab_type": "code",
        "colab": {
          "base_uri": "https://localhost:8080/",
          "height": 68
        },
        "outputId": "4dbb560d-5fed-4009-ce6c-5b9681e81f8b"
      },
      "source": [
        "# 定义K折交叉验证迭代器，K=3\n",
        "kf = KFold(n_splits=3)\n",
        "for trainset, testset in kf.split(data):\n",
        "    # 训练并预测\n",
        "    algo_funkSVD.fit(trainset)\n",
        "    predictions = algo_funkSVD.test(testset)\n",
        "    # 计算RMSE\n",
        "    accuracy.rmse(predictions, verbose=True)"
      ],
      "execution_count": 35,
      "outputs": [
        {
          "output_type": "stream",
          "text": [
            "RMSE: 0.9158\n",
            "RMSE: 0.9153\n",
            "RMSE: 0.9157\n"
          ],
          "name": "stdout"
        }
      ]
    },
    {
      "cell_type": "code",
      "metadata": {
        "id": "zVGZd4Bji4TK",
        "colab_type": "code",
        "colab": {
          "base_uri": "https://localhost:8080/",
          "height": 51
        },
        "outputId": "3cdc0850-0f72-4d19-831c-30b8e0b3acf0"
      },
      "source": [
        "uid = str(196)\n",
        "iid = str(302)\n",
        "# 输出uid对iid的预测结果\n",
        "pred = algo_funkSVD.predict(uid, iid, r_ui=4, verbose=True)\n",
        "print(\"FunkSVD:\", pred)"
      ],
      "execution_count": 36,
      "outputs": [
        {
          "output_type": "stream",
          "text": [
            "user: 196        item: 302        r_ui = 4.00   est = 3.95   {'was_impossible': False}\n",
            "FunkSVD: user: 196        item: 302        r_ui = 4.00   est = 3.95   {'was_impossible': False}\n"
          ],
          "name": "stdout"
        }
      ]
    },
    {
      "cell_type": "code",
      "metadata": {
        "id": "IivECOdAoSuC",
        "colab_type": "code",
        "colab": {
          "base_uri": "https://localhost:8080/",
          "height": 102
        },
        "outputId": "619f1be2-7526-4596-fbab-9b73df52f0ab"
      },
      "source": [
        "algo_biasSVD = SVD(n_factors=100, n_epochs = 10, biased=True, reg_all=0.02, reg_bu=0.01, reg_bi=0.01)\n",
        "# 定义K折交叉验证迭代器，K=3\n",
        "kf = KFold(n_splits=3)\n",
        "for trainset, testset in kf.split(data):\n",
        "    # 训练并预测\n",
        "    algo_biasSVD.fit(trainset)\n",
        "    predictions = algo_biasSVD.test(testset)\n",
        "    # 计算RMSE\n",
        "    accuracy.rmse(predictions, verbose=True)\n",
        "uid = str(196)\n",
        "iid = str(302)\n",
        "# 输出uid对iid的预测结果\n",
        "pred = algo_biasSVD.predict(uid, iid, r_ui=4, verbose=True)\n",
        "print(\"BiasSVD:\", pred)"
      ],
      "execution_count": 37,
      "outputs": [
        {
          "output_type": "stream",
          "text": [
            "RMSE: 0.8631\n",
            "RMSE: 0.8623\n",
            "RMSE: 0.8614\n",
            "user: 196        item: 302        r_ui = 4.00   est = 3.93   {'was_impossible': False}\n",
            "BiasSVD: user: 196        item: 302        r_ui = 4.00   est = 3.93   {'was_impossible': False}\n"
          ],
          "name": "stdout"
        }
      ]
    },
    {
      "cell_type": "code",
      "metadata": {
        "id": "6KDiElmQk69V",
        "colab_type": "code",
        "colab": {
          "base_uri": "https://localhost:8080/",
          "height": 102
        },
        "outputId": "459b6eb0-27b0-4801-8654-0710eeff9312"
      },
      "source": [
        "algo_SVDAPP = SVDpp(n_factors=20, n_epochs = 10,reg_all=0.02, reg_bu=0.01, reg_bi=0.01)\n",
        "# 定义K折交叉验证迭代器，K=3\n",
        "kf = KFold(n_splits=3)\n",
        "for trainset, testset in kf.split(data):\n",
        "    # 训练并预测\n",
        "    algo_SVDAPP.fit(trainset)\n",
        "    predictions = algo_SVDAPP.test(testset)\n",
        "    # 计算RMSE\n",
        "    accuracy.rmse(predictions, verbose=True)\n",
        "uid = str(196)\n",
        "iid = str(302)\n",
        "# 输出uid对iid的预测结果\n",
        "pred = algo_SVDAPP.predict(uid, iid, r_ui=4, verbose=True)\n",
        "print(\"SVD++:\", pred)"
      ],
      "execution_count": 40,
      "outputs": [
        {
          "output_type": "stream",
          "text": [
            "RMSE: 0.8390\n",
            "RMSE: 0.8376\n",
            "RMSE: 0.8388\n",
            "user: 196        item: 302        r_ui = 4.00   est = 4.08   {'was_impossible': False}\n",
            "SVD++: user: 196        item: 302        r_ui = 4.00   est = 4.08   {'was_impossible': False}\n"
          ],
          "name": "stdout"
        }
      ]
    },
    {
      "cell_type": "code",
      "metadata": {
        "id": "KNUplTYLq1GG",
        "colab_type": "code",
        "colab": {}
      },
      "source": [
        ""
      ],
      "execution_count": 0,
      "outputs": []
    }
  ]
}